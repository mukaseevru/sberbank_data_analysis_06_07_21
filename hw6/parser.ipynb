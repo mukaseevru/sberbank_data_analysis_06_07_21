{
  "nbformat": 4,
  "nbformat_minor": 0,
  "metadata": {
    "colab": {
      "name": "parser.ipynb",
      "provenance": [],
      "collapsed_sections": [],
      "toc_visible": true,
      "include_colab_link": true
    },
    "kernelspec": {
      "display_name": "Python 3",
      "language": "python",
      "name": "python3"
    },
    "language_info": {
      "codemirror_mode": {
        "name": "ipython",
        "version": 3
      },
      "file_extension": ".py",
      "mimetype": "text/x-python",
      "name": "python",
      "nbconvert_exporter": "python",
      "pygments_lexer": "ipython3",
      "version": "3.7.9"
    }
  },
  "cells": [
    {
      "cell_type": "markdown",
      "metadata": {
        "id": "view-in-github",
        "colab_type": "text"
      },
      "source": [
        "<a href=\"https://colab.research.google.com/github/mukaseevru/sberbank_data_analysis_06_07_21/blob/master/hw6/parser.ipynb\" target=\"_parent\"><img src=\"https://colab.research.google.com/assets/colab-badge.svg\" alt=\"Open In Colab\"/></a>"
      ]
    },
    {
      "cell_type": "markdown",
      "metadata": {
        "id": "7UDSw2EXnkJQ"
      },
      "source": [
        "# Подключение библиотек"
      ]
    },
    {
      "cell_type": "code",
      "metadata": {
        "id": "0ypU3Sp-YMut"
      },
      "source": [
        "# Загрузка необходимых модулей\n",
        "import numpy as np\n",
        "import pandas as pd\n",
        "import datetime as dt\n",
        "import requests\n",
        "import re\n",
        "from requests.adapters import HTTPAdapter\n",
        "from requests.packages.urllib3.util.retry import Retry\n",
        "from time import sleep\n",
        "from bs4 import BeautifulSoup"
      ],
      "execution_count": null,
      "outputs": []
    },
    {
      "cell_type": "markdown",
      "metadata": {
        "id": "Y24yTAzyYMuo"
      },
      "source": [
        "# Настройки"
      ]
    },
    {
      "cell_type": "code",
      "metadata": {
        "id": "GpuEhqkrYMus"
      },
      "source": [
        "# Таймаут в секундах, если ошибка соединения\n",
        "timeout = 1\n",
        "# Debug mode\n",
        "debug = True\n",
        "# Настройки по сайтам\n",
        "sites = {}\n",
        "# Включить рассылку\n",
        "sites['send'] = True\n",
        "# banki.ru\n",
        "sites['banki'] = {}\n",
        "sites['banki']['on'] = True\n",
        "sites['banki']['first_page'] = 1\n",
        "sites['banki']['last_page'] = 50\n",
        "sites['banki']['send'] = True\n",
        "# vtb.ru\n",
        "sites['vtb'] = {}\n",
        "sites['vtb']['on'] = True\n",
        "sites['vtb']['first_page'] = 1\n",
        "sites['vtb']['last_page'] = 10\n",
        "sites['vtb']['send'] = True\n",
        "# alfabank.ru\n",
        "sites['alfa'] = {}\n",
        "sites['alfa']['on'] = True\n",
        "sites['alfa']['first_page'] = 2021\n",
        "sites['alfa']['last_page'] = 2022\n",
        "sites['alfa']['send'] = True"
      ],
      "execution_count": null,
      "outputs": []
    },
    {
      "cell_type": "code",
      "metadata": {
        "colab": {
          "base_uri": "https://localhost:8080/"
        },
        "id": "b0Slx4hiyRBD",
        "outputId": "fb4ae370-90d3-4326-f5e0-f37a6677f0c0"
      },
      "source": [
        "sites"
      ],
      "execution_count": null,
      "outputs": [
        {
          "output_type": "execute_result",
          "data": {
            "text/plain": [
              "{'alfa': {'first_page': 2021, 'last_page': 2022, 'on': True, 'send': True},\n",
              " 'banki': {'first_page': 1, 'last_page': 50, 'on': True, 'send': True},\n",
              " 'send': True,\n",
              " 'vtb': {'first_page': 1, 'last_page': 10, 'on': True, 'send': True}}"
            ]
          },
          "metadata": {
            "tags": []
          },
          "execution_count": 3
        }
      ]
    },
    {
      "cell_type": "markdown",
      "metadata": {
        "id": "LoYi5upXnnjg"
      },
      "source": [
        "# Определение функций"
      ]
    },
    {
      "cell_type": "code",
      "metadata": {
        "id": "rKoqs3i3YMut"
      },
      "source": [
        "def load_page(url):\n",
        "    '''\n",
        "    Функция загрузки веб страницы\n",
        "    '''\n",
        "    count = 0\n",
        "    while True:\n",
        "        try:\n",
        "            with requests.Session() as session:\n",
        "                session.headers['Connection'] = 'keep-alive'\n",
        "                session.headers['Cache-Control'] = 'max-age=0'\n",
        "                session.headers['Upgrade-Insecure-Requests'] = '1'\n",
        "                session.headers['User-Agent'] = 'Mozilla/5.0 (Windows NT 6.1) AppleWebKit/537.36 (KHTML, like Gecko) Chrome/53.0.2785.116 Safari/537.36 OPR/40.0.2308.81'\n",
        "                session.headers['Accept'] = 'text/html,application/xhtml+xml,application/xml;q=0.9,image/webp,*/*;q=0.8'\n",
        "                session.headers['DNT'] = '1'\n",
        "                session.headers['Accept-Encoding'] = 'gzip, deflate, lzma, sdch'\n",
        "                session.headers['Accept-Language'] = 'ru-RU,ru;q=0.8,en-US;q=0.6,en;q=0.4'\n",
        "                retry = Retry(connect=3, backoff_factor=0.5)\n",
        "                adapter = HTTPAdapter(max_retries=retry)\n",
        "                session.mount('http://', adapter)\n",
        "                session.mount('https://', adapter)\n",
        "                session.proxies = {\n",
        "                    # 'http': '185.198.189.21:8080',\n",
        "                    # 'https': '185.198.189.21:8080'\n",
        "                }\n",
        "                response = session.get(url)\n",
        "            if response.status_code != 200:\n",
        "                # log.info(\"Ошибка, код ответа: %s\", response.status)\n",
        "                print('Ошибка, код ответа: %s', response.status_code)\n",
        "                sleep(timeout)\n",
        "                count += 1\n",
        "                if count > 5:\n",
        "                    return (-1)\n",
        "                # Попробуем снова на следующей итерации цикла\n",
        "                continue\n",
        "            # Если дошли до сюда, значит ошибок не было\n",
        "            return response\n",
        "        except ConnectionError:\n",
        "            # Выводим свое сообщение плюс стек трассы\n",
        "            # log.exception(\"Ошибка ConnectionError\")\n",
        "            print('Ошибка ConnectionError')\n",
        "            sleep(timeout)\n",
        "\n",
        "\n",
        "def remove_emojis(text):\n",
        "    '''\n",
        "    Функция очистки текста от эмоджи\n",
        "    '''\n",
        "    emoj = re.compile(\"[\"\n",
        "                      u\"\\U0001F600-\\U0001F64F\"  # emoticons\n",
        "                      u\"\\U0001F300-\\U0001F5FF\"  # symbols & pictographs\n",
        "                      u\"\\U0001F680-\\U0001F6FF\"  # transport & map symbols\n",
        "                      u\"\\U0001F1E0-\\U0001F1FF\"  # flags (iOS)\n",
        "                      u\"\\U00002500-\\U00002BEF\"  # chinese char\n",
        "                      u\"\\U00002702-\\U000027B0\"\n",
        "                      u\"\\U00002702-\\U000027B0\"\n",
        "                      u\"\\U000024C2-\\U0001F251\"\n",
        "                      u\"\\U0001f926-\\U0001f937\"\n",
        "                      u\"\\U00010000-\\U0010ffff\"\n",
        "                      u\"\\u2640-\\u2642\"\n",
        "                      u\"\\u2600-\\u2B55\"\n",
        "                      u\"\\u200d\"\n",
        "                      u\"\\u23cf\"\n",
        "                      u\"\\u23e9\"\n",
        "                      u\"\\u231a\"\n",
        "                      u\"\\ufe0f\"  # dingbats\n",
        "                      u\"\\u3030\"\n",
        "                      \"]+\", re.UNICODE)\n",
        "    return re.sub(emoj, ' ', text)\n",
        "\n",
        "\n",
        "def clean_text(text):\n",
        "    '''\n",
        "    Функция очистки текста от спецсимволов\n",
        "    '''\n",
        "    if pd.isnull(text):\n",
        "        return np.nan\n",
        "    text = remove_emojis(text)\n",
        "    text = text.replace('\\n', ' ')\\\n",
        "        .replace('\\r', ' ')\\\n",
        "        .replace('\\t', ' ')\\\n",
        "        .replace('\\u200b', ' ')\\\n",
        "        .replace('•', ' ')\\\n",
        "        .replace('<', ' ')\\\n",
        "        .replace('>', ' ')\\\n",
        "        .strip()\n",
        "    while '  ' in text:\n",
        "        text = text.replace('  ', ' ')\n",
        "    return text"
      ],
      "execution_count": null,
      "outputs": []
    },
    {
      "cell_type": "markdown",
      "metadata": {
        "id": "OEijMhDV2xMW"
      },
      "source": [
        "# banki.ru"
      ]
    },
    {
      "cell_type": "markdown",
      "metadata": {
        "id": "B85V-KTZnrB4"
      },
      "source": [
        "## Загрузка имеющихся данных"
      ]
    },
    {
      "cell_type": "code",
      "metadata": {
        "colab": {
          "base_uri": "https://localhost:8080/"
        },
        "id": "xLQQGBw-Yvp4",
        "outputId": "1de8e463-3534-47fe-90b2-3ae63e10230e"
      },
      "source": [
        "from google.colab import drive\n",
        "drive.mount('/content/drive')"
      ],
      "execution_count": null,
      "outputs": [
        {
          "output_type": "stream",
          "text": [
            "Mounted at /content/drive\n"
          ],
          "name": "stdout"
        }
      ]
    },
    {
      "cell_type": "code",
      "metadata": {
        "colab": {
          "base_uri": "https://localhost:8080/",
          "height": 37
        },
        "id": "bXUakrcYZcai",
        "outputId": "14e589df-14ae-4bfb-c0c8-2816b2055c13"
      },
      "source": [
        "import os\n",
        "os.getcwd()"
      ],
      "execution_count": null,
      "outputs": [
        {
          "output_type": "execute_result",
          "data": {
            "application/vnd.google.colaboratory.intrinsic+json": {
              "type": "string"
            },
            "text/plain": [
              "'/content'"
            ]
          },
          "metadata": {
            "tags": []
          },
          "execution_count": 6
        }
      ]
    },
    {
      "cell_type": "markdown",
      "metadata": {
        "id": "eYBi1T0OQYPH"
      },
      "source": [
        "Чтобы каждый раз не выгружать все новости заново, загрузим уже скачанный ранее датасет"
      ]
    },
    {
      "cell_type": "code",
      "metadata": {
        "colab": {
          "base_uri": "https://localhost:8080/"
        },
        "id": "uTUCFtKmYMuu",
        "outputId": "68f7968d-96c8-4d12-fa47-d3283188a202"
      },
      "source": [
        "# скачать можно здесь: https://drive.google.com/file/d/1qRgl3SQ-DcFo7HK9WJgnQMq1npJDMOgN/view?usp=sharing\n",
        "banki = pd.read_csv('drive/MyDrive/Colab Notebooks/sber/news/data/banki.csv',\n",
        "                    dtype={'id': np.str,\n",
        "                           'title': np.str,\n",
        "                           'text': np.str,\n",
        "                           'url': np.str,\n",
        "                           'time': np.str,\n",
        "                           'views': np.int64,\n",
        "                           'comments': np.int64,\n",
        "                           'source': np.str\n",
        "                           })\n",
        "banki.time = pd.to_datetime(banki.time, format='%Y-%m-%d %H:%M:%S')\n",
        "banki.info()"
      ],
      "execution_count": null,
      "outputs": [
        {
          "output_type": "stream",
          "text": [
            "<class 'pandas.core.frame.DataFrame'>\n",
            "RangeIndex: 113250 entries, 0 to 113249\n",
            "Data columns (total 8 columns):\n",
            " #   Column    Non-Null Count   Dtype         \n",
            "---  ------    --------------   -----         \n",
            " 0   id        113250 non-null  object        \n",
            " 1   title     113250 non-null  object        \n",
            " 2   text      113172 non-null  object        \n",
            " 3   url       113250 non-null  object        \n",
            " 4   time      113250 non-null  datetime64[ns]\n",
            " 5   views     113250 non-null  int64         \n",
            " 6   comments  113250 non-null  int64         \n",
            " 7   source    113211 non-null  object        \n",
            "dtypes: datetime64[ns](1), int64(2), object(5)\n",
            "memory usage: 6.9+ MB\n"
          ],
          "name": "stdout"
        }
      ]
    },
    {
      "cell_type": "code",
      "metadata": {
        "colab": {
          "base_uri": "https://localhost:8080/",
          "height": 374
        },
        "id": "0m8psoKhK76U",
        "outputId": "502793c6-654f-4920-e6d7-ff30d9f71715"
      },
      "source": [
        "banki.tail()"
      ],
      "execution_count": null,
      "outputs": [
        {
          "output_type": "execute_result",
          "data": {
            "text/html": [
              "<div>\n",
              "<style scoped>\n",
              "    .dataframe tbody tr th:only-of-type {\n",
              "        vertical-align: middle;\n",
              "    }\n",
              "\n",
              "    .dataframe tbody tr th {\n",
              "        vertical-align: top;\n",
              "    }\n",
              "\n",
              "    .dataframe thead th {\n",
              "        text-align: right;\n",
              "    }\n",
              "</style>\n",
              "<table border=\"1\" class=\"dataframe\">\n",
              "  <thead>\n",
              "    <tr style=\"text-align: right;\">\n",
              "      <th></th>\n",
              "      <th>id</th>\n",
              "      <th>title</th>\n",
              "      <th>text</th>\n",
              "      <th>url</th>\n",
              "      <th>time</th>\n",
              "      <th>views</th>\n",
              "      <th>comments</th>\n",
              "      <th>source</th>\n",
              "    </tr>\n",
              "  </thead>\n",
              "  <tbody>\n",
              "    <tr>\n",
              "      <th>113245</th>\n",
              "      <td>10938680</td>\n",
              "      <td>В Центробанке назвали долю сотрудников на «уда...</td>\n",
              "      <td>В дистанционном режиме работает примерно полов...</td>\n",
              "      <td>https://www.banki.ru/news/lenta/?id=10938680</td>\n",
              "      <td>2020-12-15 21:49:00</td>\n",
              "      <td>2666</td>\n",
              "      <td>0</td>\n",
              "      <td>Banki.ru</td>\n",
              "    </tr>\n",
              "    <tr>\n",
              "      <th>113246</th>\n",
              "      <td>10938679</td>\n",
              "      <td>АКРА присвоило Росэксимбанку рейтинг «AА(RU)»</td>\n",
              "      <td>Аналитическое кредитное рейтинговое агентство ...</td>\n",
              "      <td>https://www.banki.ru/news/lenta/?id=10938679</td>\n",
              "      <td>2020-12-15 21:42:00</td>\n",
              "      <td>2736</td>\n",
              "      <td>0</td>\n",
              "      <td>Banki.ru</td>\n",
              "    </tr>\n",
              "    <tr>\n",
              "      <th>113247</th>\n",
              "      <td>10938678</td>\n",
              "      <td>Тулин: постоянные регуляторные послабления — э...</td>\n",
              "      <td>Банковский сектор будет выходить из режима рег...</td>\n",
              "      <td>https://www.banki.ru/news/lenta/?id=10938678</td>\n",
              "      <td>2020-12-15 21:34:00</td>\n",
              "      <td>2279</td>\n",
              "      <td>1</td>\n",
              "      <td>Banki.ru</td>\n",
              "    </tr>\n",
              "    <tr>\n",
              "      <th>113248</th>\n",
              "      <td>10938677</td>\n",
              "      <td>Росстат назвал величину сокращения промпроизво...</td>\n",
              "      <td>Промышленное производство в России в ноябре со...</td>\n",
              "      <td>https://www.banki.ru/news/lenta/?id=10938677</td>\n",
              "      <td>2020-12-15 21:18:00</td>\n",
              "      <td>1801</td>\n",
              "      <td>0</td>\n",
              "      <td>Banki.ru</td>\n",
              "    </tr>\n",
              "    <tr>\n",
              "      <th>113249</th>\n",
              "      <td>10938676</td>\n",
              "      <td>Банки заключили с застройщиками кредитные дого...</td>\n",
              "      <td>Российские банки заключили с застройщиками кре...</td>\n",
              "      <td>https://www.banki.ru/news/lenta/?id=10938676</td>\n",
              "      <td>2020-12-15 20:45:00</td>\n",
              "      <td>1868</td>\n",
              "      <td>0</td>\n",
              "      <td>Banki.ru</td>\n",
              "    </tr>\n",
              "  </tbody>\n",
              "</table>\n",
              "</div>"
            ],
            "text/plain": [
              "              id  ...    source\n",
              "113245  10938680  ...  Banki.ru\n",
              "113246  10938679  ...  Banki.ru\n",
              "113247  10938678  ...  Banki.ru\n",
              "113248  10938677  ...  Banki.ru\n",
              "113249  10938676  ...  Banki.ru\n",
              "\n",
              "[5 rows x 8 columns]"
            ]
          },
          "metadata": {
            "tags": []
          },
          "execution_count": 8
        }
      ]
    },
    {
      "cell_type": "markdown",
      "metadata": {
        "id": "6tXc8PAYnwso"
      },
      "source": [
        "## Цикл парсинга"
      ]
    },
    {
      "cell_type": "markdown",
      "metadata": {
        "id": "YLVF_c1hQoVm"
      },
      "source": [
        "Создадим цикл, который будет заходить на сайт и скачивать информацию о новостях. Если новость новая, добавляем ее в датасет. Если новость уже есть в датасете, то обновим информацию о просмотрах"
      ]
    },
    {
      "cell_type": "code",
      "metadata": {
        "id": "oO38BspnYMuv",
        "scrolled": true,
        "colab": {
          "base_uri": "https://localhost:8080/"
        },
        "outputId": "23791e1d-6437-43e2-b2be-d6e4fbee656a"
      },
      "source": [
        "if sites['banki']['on']:\n",
        "    for page in range(sites['banki']['first_page'], sites['banki']['last_page']):\n",
        "        count_add_articles = 0\n",
        "        count_upd_views = 0\n",
        "        count_upd_comments = 0\n",
        "        count_upd_source = 0\n",
        "        url = 'https://www.banki.ru/news/lenta/page' + str(page)\n",
        "        response = load_page(url)\n",
        "        if response == -1:\n",
        "            continue\n",
        "        soup = BeautifulSoup(response.text, 'lxml')\n",
        "        articles = soup.find_all(\n",
        "            'ul', class_='text-list text-list--date text-list--date-inline')[0].find_all('li')\n",
        "        for article in articles:\n",
        "            # Кол-во просмотров\n",
        "            views = 0\n",
        "            # Кол-во комментариев\n",
        "            comments = 0\n",
        "            # Источник новости\n",
        "            source = ''\n",
        "            article_url = article.find('a', class_='text-list-link')\n",
        "            if article_url.get('href')[0] == 'h':\n",
        "                # print('Error url - {}'.format(article_url.get('href')))\n",
        "                continue\n",
        "            article_id = str(article_url.get('href').split('=')[1])\n",
        "            article_info = article.find_all('span', class_='news__info')\n",
        "            if len(article_info) > 1:\n",
        "                source = clean_text(article_info[0].text)\n",
        "                if article_info[1].text != '':\n",
        "                    views = int(clean_text(\n",
        "                        article_info[1].text.split('\\n\\t')[1]))\n",
        "                if article_info[1].find('span', class_='link-with-icon__icon icon-font icon-bubble-16 icon-font--size_small'):\n",
        "                    comments = int(clean_text(\n",
        "                        article_info[1].text.split('\\n\\t')[3]))\n",
        "            else:\n",
        "                if article_info[0].text != '':\n",
        "                    views = int(clean_text(\n",
        "                        article_info[0].text.split('\\n\\t')[1]))\n",
        "                if article_info[0].find('span', class_='link-with-icon__icon icon-font icon-bubble-16 icon-font--size_small'):\n",
        "                    comments = int(clean_text(\n",
        "                        article_info[0].text.split('\\n\\t')[3]))\n",
        "            if banki[banki['id'] == article_id].shape[0] == 0:\n",
        "                url = 'https://www.banki.ru' + article_url.get('href')\n",
        "                response = load_page(url)\n",
        "                if response == -1:\n",
        "                    continue\n",
        "                soup = BeautifulSoup(response.text, 'lxml')\n",
        "                # Title\n",
        "                title = soup.find('h1', class_='header-h0')\n",
        "                # Text\n",
        "                text = soup.find(\n",
        "                    'article', class_='article-text plain-text markup-inside lenta')\n",
        "                # Time\n",
        "                time = soup.find('time')\n",
        "                banki = banki.append({'id': str(article_id),\n",
        "                                      'title': str(clean_text(title.text)),\n",
        "                                      'text': str(clean_text(text.text)),\n",
        "                                      'url': str(url),\n",
        "                                      'time': pd.to_datetime(time.text, format='%d.%m.%Y %H:%M'),\n",
        "                                      'views': int(views),\n",
        "                                      'comments': int(comments),\n",
        "                                      'source': str(source)}, ignore_index=True)\n",
        "                count_add_articles += 1\n",
        "            else:\n",
        "                if banki.loc[banki['id'] == article_id, 'views'].values[0] != views:\n",
        "                    banki.loc[banki['id'] == article_id, 'views'] = views\n",
        "                    count_upd_views += 1\n",
        "                if banki.loc[banki['id'] == article_id, 'comments'].values[0] != comments:\n",
        "                    banki.loc[banki['id'] == article_id, 'comments'] = comments\n",
        "                    count_upd_comments += 1\n",
        "                if banki.loc[banki['id'] == article_id, 'source'].values[0] != source:\n",
        "                    banki.loc[banki['id'] == article_id, 'source'] = source\n",
        "                    count_upd_source += 1\n",
        "        sites['banki']['first_page'] = page\n",
        "        if debug:\n",
        "            print('Page {}: ADD {}, UPD {} views, {} comments, {} source'.format(\n",
        "                page, count_add_articles, count_upd_views, count_upd_comments, count_upd_source))"
      ],
      "execution_count": null,
      "outputs": [
        {
          "output_type": "stream",
          "text": [
            "Page 1: ADD 13, UPD 0 views, 0 comments, 0 source\n",
            "Page 2: ADD 38, UPD 0 views, 0 comments, 0 source\n",
            "Page 3: ADD 48, UPD 0 views, 0 comments, 0 source\n",
            "Page 4: ADD 55, UPD 0 views, 0 comments, 0 source\n",
            "Page 5: ADD 8, UPD 0 views, 0 comments, 0 source\n",
            "Page 6: ADD 17, UPD 0 views, 0 comments, 0 source\n",
            "Page 7: ADD 36, UPD 0 views, 0 comments, 0 source\n",
            "Page 8: ADD 13, UPD 0 views, 0 comments, 0 source\n",
            "Page 9: ADD 18, UPD 0 views, 0 comments, 0 source\n",
            "Page 10: ADD 29, UPD 0 views, 0 comments, 0 source\n",
            "Page 11: ADD 45, UPD 0 views, 0 comments, 0 source\n",
            "Page 12: ADD 5, UPD 0 views, 0 comments, 0 source\n",
            "Page 13: ADD 15, UPD 0 views, 0 comments, 0 source\n",
            "Page 14: ADD 19, UPD 0 views, 0 comments, 0 source\n",
            "Page 15: ADD 53, UPD 0 views, 0 comments, 0 source\n",
            "Page 16: ADD 55, UPD 0 views, 0 comments, 0 source\n",
            "Page 17: ADD 11, UPD 0 views, 0 comments, 0 source\n",
            "Page 18: ADD 28, UPD 0 views, 0 comments, 0 source\n",
            "Page 19: ADD 42, UPD 0 views, 0 comments, 0 source\n",
            "Page 20: ADD 0, UPD 7 views, 2 comments, 0 source\n",
            "Page 21: ADD 0, UPD 33 views, 2 comments, 0 source\n",
            "Page 22: ADD 0, UPD 41 views, 2 comments, 0 source\n",
            "Page 23: ADD 0, UPD 55 views, 0 comments, 0 source\n",
            "Page 24: ADD 4, UPD 51 views, 0 comments, 0 source\n",
            "Page 25: ADD 0, UPD 11 views, 0 comments, 0 source\n",
            "Page 26: ADD 0, UPD 24 views, 1 comments, 1 source\n",
            "Page 27: ADD 0, UPD 55 views, 0 comments, 0 source\n",
            "Page 28: ADD 4, UPD 51 views, 0 comments, 0 source\n",
            "Page 29: ADD 0, UPD 7 views, 0 comments, 0 source\n",
            "Page 30: ADD 0, UPD 23 views, 0 comments, 0 source\n",
            "Page 31: ADD 0, UPD 25 views, 0 comments, 0 source\n",
            "Page 32: ADD 0, UPD 39 views, 0 comments, 0 source\n",
            "Page 33: ADD 4, UPD 9 views, 0 comments, 0 source\n",
            "Page 34: ADD 0, UPD 8 views, 0 comments, 0 source\n",
            "Page 35: ADD 0, UPD 18 views, 0 comments, 0 source\n",
            "Page 36: ADD 0, UPD 31 views, 0 comments, 0 source\n",
            "Page 37: ADD 0, UPD 43 views, 0 comments, 0 source\n",
            "Page 38: ADD 0, UPD 44 views, 0 comments, 0 source\n",
            "Page 39: ADD 0, UPD 5 views, 0 comments, 0 source\n",
            "Page 40: ADD 0, UPD 18 views, 0 comments, 0 source\n",
            "Page 41: ADD 0, UPD 32 views, 0 comments, 0 source\n",
            "Page 42: ADD 0, UPD 38 views, 0 comments, 0 source\n",
            "Page 43: ADD 0, UPD 39 views, 0 comments, 0 source\n",
            "Page 44: ADD 0, UPD 41 views, 0 comments, 0 source\n",
            "Page 45: ADD 4, UPD 10 views, 0 comments, 0 source\n",
            "Page 46: ADD 0, UPD 29 views, 0 comments, 0 source\n",
            "Page 47: ADD 0, UPD 39 views, 0 comments, 0 source\n",
            "Page 48: ADD 0, UPD 40 views, 0 comments, 0 source\n",
            "Page 49: ADD 0, UPD 39 views, 0 comments, 0 source\n"
          ],
          "name": "stdout"
        }
      ]
    },
    {
      "cell_type": "code",
      "metadata": {
        "id": "A1CmnvYtYMuw",
        "scrolled": true,
        "colab": {
          "base_uri": "https://localhost:8080/"
        },
        "outputId": "4b30a96c-fc32-41b0-c1a4-592639a02696"
      },
      "source": [
        "banki.info()"
      ],
      "execution_count": null,
      "outputs": [
        {
          "output_type": "stream",
          "text": [
            "<class 'pandas.core.frame.DataFrame'>\n",
            "RangeIndex: 113814 entries, 0 to 113813\n",
            "Data columns (total 8 columns):\n",
            " #   Column    Non-Null Count   Dtype         \n",
            "---  ------    --------------   -----         \n",
            " 0   id        113814 non-null  object        \n",
            " 1   title     113814 non-null  object        \n",
            " 2   text      113736 non-null  object        \n",
            " 3   url       113814 non-null  object        \n",
            " 4   time      113814 non-null  datetime64[ns]\n",
            " 5   views     113814 non-null  int64         \n",
            " 6   comments  113814 non-null  int64         \n",
            " 7   source    113776 non-null  object        \n",
            "dtypes: datetime64[ns](1), int64(2), object(5)\n",
            "memory usage: 6.9+ MB\n"
          ],
          "name": "stdout"
        }
      ]
    },
    {
      "cell_type": "markdown",
      "metadata": {
        "id": "AFJqL-uzYMux"
      },
      "source": [
        "## Обработка дубликатов"
      ]
    },
    {
      "cell_type": "markdown",
      "metadata": {
        "id": "q87zNxT9RDe_"
      },
      "source": [
        "В цикле есть проверка на повтор новостей, но сделаем дополнительную проверку на случай изменения id новости"
      ]
    },
    {
      "cell_type": "code",
      "metadata": {
        "id": "UZ9lIcXXYMux",
        "colab": {
          "base_uri": "https://localhost:8080/"
        },
        "outputId": "37b113ac-71dd-45b9-d4cb-e434bc8d553a"
      },
      "source": [
        "banki.id.nunique()"
      ],
      "execution_count": null,
      "outputs": [
        {
          "output_type": "execute_result",
          "data": {
            "text/plain": [
              "113814"
            ]
          },
          "metadata": {
            "tags": []
          },
          "execution_count": 11
        }
      ]
    },
    {
      "cell_type": "code",
      "metadata": {
        "id": "gExPIXxTYMuy",
        "colab": {
          "base_uri": "https://localhost:8080/"
        },
        "outputId": "9a946b04-3433-4355-befa-6f92cd12c12f"
      },
      "source": [
        "banki.drop_duplicates(subset=['id'], inplace=True, keep='last')\n",
        "banki.shape"
      ],
      "execution_count": null,
      "outputs": [
        {
          "output_type": "execute_result",
          "data": {
            "text/plain": [
              "(113814, 8)"
            ]
          },
          "metadata": {
            "tags": []
          },
          "execution_count": 12
        }
      ]
    },
    {
      "cell_type": "code",
      "metadata": {
        "id": "6ljrKvxdYMuy",
        "colab": {
          "base_uri": "https://localhost:8080/"
        },
        "outputId": "cda15341-5a7a-45ef-c136-97af8e3e7a09"
      },
      "source": [
        "banki[banki.duplicated()].shape"
      ],
      "execution_count": null,
      "outputs": [
        {
          "output_type": "execute_result",
          "data": {
            "text/plain": [
              "(0, 8)"
            ]
          },
          "metadata": {
            "tags": []
          },
          "execution_count": 13
        }
      ]
    },
    {
      "cell_type": "markdown",
      "metadata": {
        "id": "gVXjpOA-YMuz"
      },
      "source": [
        "## Выгрузка в csv"
      ]
    },
    {
      "cell_type": "markdown",
      "metadata": {
        "id": "k0FqwhgMRS1-"
      },
      "source": [
        "Выгрузим весь датасет в файл, чтобы иметь возможность его загрузить в начале алгоритма и из других скриптов"
      ]
    },
    {
      "cell_type": "code",
      "metadata": {
        "id": "-kzKImsHYMu0"
      },
      "source": [
        "banki.to_csv(\n",
        "    'drive/MyDrive/Colab Notebooks/sber/news/data/banki.csv', index=False)"
      ],
      "execution_count": null,
      "outputs": []
    },
    {
      "cell_type": "code",
      "metadata": {
        "id": "_C175H2QV-BS",
        "colab": {
          "base_uri": "https://localhost:8080/",
          "height": 374
        },
        "outputId": "aebf59a3-b0f6-4a58-ecbd-352f8ba648fa"
      },
      "source": [
        "banki.head()"
      ],
      "execution_count": null,
      "outputs": [
        {
          "output_type": "execute_result",
          "data": {
            "text/html": [
              "<div>\n",
              "<style scoped>\n",
              "    .dataframe tbody tr th:only-of-type {\n",
              "        vertical-align: middle;\n",
              "    }\n",
              "\n",
              "    .dataframe tbody tr th {\n",
              "        vertical-align: top;\n",
              "    }\n",
              "\n",
              "    .dataframe thead th {\n",
              "        text-align: right;\n",
              "    }\n",
              "</style>\n",
              "<table border=\"1\" class=\"dataframe\">\n",
              "  <thead>\n",
              "    <tr style=\"text-align: right;\">\n",
              "      <th></th>\n",
              "      <th>id</th>\n",
              "      <th>title</th>\n",
              "      <th>text</th>\n",
              "      <th>url</th>\n",
              "      <th>time</th>\n",
              "      <th>views</th>\n",
              "      <th>comments</th>\n",
              "      <th>source</th>\n",
              "    </tr>\n",
              "  </thead>\n",
              "  <tbody>\n",
              "    <tr>\n",
              "      <th>0</th>\n",
              "      <td>10940845</td>\n",
              "      <td>Эксперты рассказали, каким образом мошенникам ...</td>\n",
              "      <td>На сегодняшний день телекоммуникационные систе...</td>\n",
              "      <td>https://www.banki.ru/news/lenta/?id=10940845</td>\n",
              "      <td>2021-02-02 09:09:00</td>\n",
              "      <td>4879</td>\n",
              "      <td>0</td>\n",
              "      <td>Известия</td>\n",
              "    </tr>\n",
              "    <tr>\n",
              "      <th>1</th>\n",
              "      <td>10940844</td>\n",
              "      <td>Почти половина работников в России заявили о п...</td>\n",
              "      <td>События 2020 года пагубно сказались на мотивац...</td>\n",
              "      <td>https://www.banki.ru/news/lenta/?id=10940844</td>\n",
              "      <td>2021-02-02 08:58:00</td>\n",
              "      <td>2394</td>\n",
              "      <td>3</td>\n",
              "      <td>РБК</td>\n",
              "    </tr>\n",
              "    <tr>\n",
              "      <th>2</th>\n",
              "      <td>10940817</td>\n",
              "      <td>Банк « Уралсиб» сообщил о кадровых перестановках</td>\n",
              "      <td>Станислав Тывес, заместитель председателя прав...</td>\n",
              "      <td>https://www.banki.ru/news/lenta/?id=10940817</td>\n",
              "      <td>2021-02-02 08:54:00</td>\n",
              "      <td>3480</td>\n",
              "      <td>0</td>\n",
              "      <td>Партнёрский материал</td>\n",
              "    </tr>\n",
              "    <tr>\n",
              "      <th>3</th>\n",
              "      <td>10940847</td>\n",
              "      <td>Опрос: москвичи не хотят возвращаться в офисы</td>\n",
              "      <td>Более половины московских сотрудников, перевед...</td>\n",
              "      <td>https://www.banki.ru/news/lenta/?id=10940847</td>\n",
              "      <td>2021-02-02 08:49:00</td>\n",
              "      <td>2353</td>\n",
              "      <td>4</td>\n",
              "      <td>Banki.ru</td>\n",
              "    </tr>\n",
              "    <tr>\n",
              "      <th>4</th>\n",
              "      <td>10940843</td>\n",
              "      <td>В России число преступлений с банковскими карт...</td>\n",
              "      <td>В России в 2020 году количество преступлений с...</td>\n",
              "      <td>https://www.banki.ru/news/lenta/?id=10940843</td>\n",
              "      <td>2021-02-02 08:48:00</td>\n",
              "      <td>3136</td>\n",
              "      <td>2</td>\n",
              "      <td>Известия</td>\n",
              "    </tr>\n",
              "  </tbody>\n",
              "</table>\n",
              "</div>"
            ],
            "text/plain": [
              "         id  ...                source\n",
              "0  10940845  ...              Известия\n",
              "1  10940844  ...                   РБК\n",
              "2  10940817  ...  Партнёрский материал\n",
              "3  10940847  ...              Banki.ru\n",
              "4  10940843  ...              Известия\n",
              "\n",
              "[5 rows x 8 columns]"
            ]
          },
          "metadata": {
            "tags": []
          },
          "execution_count": 15
        }
      ]
    },
    {
      "cell_type": "markdown",
      "metadata": {
        "id": "RjfbCIpUJ-7q"
      },
      "source": [
        "Самая просматриваемая статья"
      ]
    },
    {
      "cell_type": "code",
      "metadata": {
        "id": "1I3GNBl5ThEn",
        "colab": {
          "base_uri": "https://localhost:8080/",
          "height": 114
        },
        "outputId": "b2c37771-855f-4f34-b589-5d1e8a52b736"
      },
      "source": [
        "banki[banki.views == banki.views.max()]"
      ],
      "execution_count": null,
      "outputs": [
        {
          "output_type": "execute_result",
          "data": {
            "text/html": [
              "<div>\n",
              "<style scoped>\n",
              "    .dataframe tbody tr th:only-of-type {\n",
              "        vertical-align: middle;\n",
              "    }\n",
              "\n",
              "    .dataframe tbody tr th {\n",
              "        vertical-align: top;\n",
              "    }\n",
              "\n",
              "    .dataframe thead th {\n",
              "        text-align: right;\n",
              "    }\n",
              "</style>\n",
              "<table border=\"1\" class=\"dataframe\">\n",
              "  <thead>\n",
              "    <tr style=\"text-align: right;\">\n",
              "      <th></th>\n",
              "      <th>id</th>\n",
              "      <th>title</th>\n",
              "      <th>text</th>\n",
              "      <th>url</th>\n",
              "      <th>time</th>\n",
              "      <th>views</th>\n",
              "      <th>comments</th>\n",
              "      <th>source</th>\n",
              "    </tr>\n",
              "  </thead>\n",
              "  <tbody>\n",
              "    <tr>\n",
              "      <th>98142</th>\n",
              "      <td>8421613</td>\n",
              "      <td>Арестован банкир, подозреваемый в организации ...</td>\n",
              "      <td>Сотрудники правоохранительных органов задержал...</td>\n",
              "      <td>https://www.banki.ru/news/lenta/?id=8421613</td>\n",
              "      <td>2015-11-03 09:09:00</td>\n",
              "      <td>1674117</td>\n",
              "      <td>29</td>\n",
              "      <td>Коммерсант</td>\n",
              "    </tr>\n",
              "  </tbody>\n",
              "</table>\n",
              "</div>"
            ],
            "text/plain": [
              "            id  ...      source\n",
              "98142  8421613  ...  Коммерсант\n",
              "\n",
              "[1 rows x 8 columns]"
            ]
          },
          "metadata": {
            "tags": []
          },
          "execution_count": 16
        }
      ]
    },
    {
      "cell_type": "markdown",
      "metadata": {
        "id": "rh8yKJyql9p5"
      },
      "source": [
        "## Очистка (убрать комментарии)"
      ]
    },
    {
      "cell_type": "code",
      "metadata": {
        "id": "-4a6HJ9RqLFR"
      },
      "source": [
        "# banki['title'] = banki.title.apply(clean_text)\n",
        "# banki['text'] = banki.text.apply(clean_text)"
      ],
      "execution_count": null,
      "outputs": []
    },
    {
      "cell_type": "markdown",
      "metadata": {
        "id": "crMzCXqU1G4C"
      },
      "source": [
        "# vtb.ru"
      ]
    },
    {
      "cell_type": "markdown",
      "metadata": {
        "id": "U7d0ofdbRre5"
      },
      "source": [
        "Повторим вышереализованный алгоритм для сайта ВТБ"
      ]
    },
    {
      "cell_type": "markdown",
      "metadata": {
        "id": "eVjFZj662-6A"
      },
      "source": [
        "## Загрузка имеющихся данных"
      ]
    },
    {
      "cell_type": "code",
      "metadata": {
        "id": "gBZrI-h10JsG",
        "colab": {
          "base_uri": "https://localhost:8080/"
        },
        "outputId": "dca9c01f-ae6c-48b8-aef6-80cd9b6c07ab"
      },
      "source": [
        "# скачать можно здесь: https://drive.google.com/file/d/1pNykrWil_aDGVfpHcz1fXDN-4gglXdf3/view?usp=sharing\n",
        "vtb = pd.read_csv('drive/MyDrive/Colab Notebooks/sber/news/data/vtb.csv',\n",
        "                  dtype={'id': np.str,\n",
        "                         'title': np.str,\n",
        "                         'text': np.str,\n",
        "                         'url': np.str,\n",
        "                         'time': np.str,\n",
        "                         'views': np.int64,\n",
        "                         'comments': np.int64,\n",
        "                         'source': np.str\n",
        "                         })\n",
        "vtb.time = pd.to_datetime(vtb.time, format='%Y-%m-%d %H:%M:%S')\n",
        "vtb.info()"
      ],
      "execution_count": null,
      "outputs": [
        {
          "output_type": "stream",
          "text": [
            "<class 'pandas.core.frame.DataFrame'>\n",
            "RangeIndex: 2909 entries, 0 to 2908\n",
            "Data columns (total 8 columns):\n",
            " #   Column    Non-Null Count  Dtype         \n",
            "---  ------    --------------  -----         \n",
            " 0   id        2909 non-null   object        \n",
            " 1   title     2907 non-null   object        \n",
            " 2   text      2907 non-null   object        \n",
            " 3   url       2909 non-null   object        \n",
            " 4   time      2909 non-null   datetime64[ns]\n",
            " 5   views     2909 non-null   int64         \n",
            " 6   comments  2909 non-null   int64         \n",
            " 7   source    2909 non-null   object        \n",
            "dtypes: datetime64[ns](1), int64(2), object(5)\n",
            "memory usage: 181.9+ KB\n"
          ],
          "name": "stdout"
        }
      ]
    },
    {
      "cell_type": "markdown",
      "metadata": {
        "id": "vpQhQDnZ3CKs"
      },
      "source": [
        "## Цикл парсинга"
      ]
    },
    {
      "cell_type": "markdown",
      "metadata": {
        "id": "_u-NQuDPRjb1"
      },
      "source": [
        "Создадим цикл для парсинга новостей с сайта ВТБ"
      ]
    },
    {
      "cell_type": "code",
      "metadata": {
        "id": "q42eYWvyj0q_",
        "colab": {
          "base_uri": "https://localhost:8080/"
        },
        "outputId": "2b86b177-6653-4e78-fc14-0a3c7d058119"
      },
      "source": [
        "if sites['vtb']['on']:\n",
        "    for page in range(sites['vtb']['first_page'], sites['vtb']['last_page']):\n",
        "        count_add_articles = 0\n",
        "        url = 'https://vtb.ru/o-banke/press-centr/novosti-i-press-relizy/?page=' + \\\n",
        "            str(page)\n",
        "        response = load_page(url)\n",
        "        if response == -1:\n",
        "            continue\n",
        "        soup = BeautifulSoup(response.text, 'lxml')\n",
        "        articles = soup.find_all('div', class_='news-grid__content__item')\n",
        "        for article in articles:\n",
        "            # Кол-во просмотров\n",
        "            views = 0\n",
        "            # Кол-во комментариев\n",
        "            comments = 0\n",
        "            # Источник новости\n",
        "            source = 'vtb.ru'\n",
        "            article_url = article.find('a').get('href')\n",
        "            if article_url == '':\n",
        "                continue\n",
        "            article_id = str(article_url.split('/')[6])\n",
        "            if vtb[vtb['id'] == article_id].shape[0] == 0:\n",
        "                url = 'https://vtb.ru' + article_url\n",
        "                response = load_page(url)\n",
        "                if response == -1:\n",
        "                    continue\n",
        "                soup = BeautifulSoup(response.text, 'lxml')\n",
        "                # Title\n",
        "                title = soup.find(\n",
        "                    'section', class_='common-header').find('h1').text\n",
        "                # Text\n",
        "                text = soup.find(\n",
        "                    'div', class_='news-item__main common-text').text\n",
        "                # Time\n",
        "                time = soup.find(\n",
        "                    'div', class_='date-block').text.replace('дата', '').replace('\\n', '')\n",
        "                vtb = vtb.append({'id': str(article_id),\n",
        "                                  'title': str(clean_text(title)),\n",
        "                                  'text': str(clean_text(text)),\n",
        "                                  'url': str(url),\n",
        "                                  'time': pd.to_datetime(time, format='%d.%m.%Y'),\n",
        "                                  'views': int(views),\n",
        "                                  'comments': int(comments),\n",
        "                                  'source': str(source)}, ignore_index=True)\n",
        "                count_add_articles += 1\n",
        "        sites['vtb']['first_page'] = page\n",
        "        if debug:\n",
        "            print('Page {}: ADD {}'.format(page, count_add_articles))"
      ],
      "execution_count": null,
      "outputs": [
        {
          "output_type": "stream",
          "text": [
            "Page 1: ADD 7\n",
            "Page 2: ADD 8\n",
            "Page 3: ADD 8\n",
            "Page 4: ADD 8\n",
            "Page 5: ADD 8\n",
            "Page 6: ADD 8\n",
            "Page 7: ADD 8\n",
            "Page 8: ADD 2\n",
            "Page 9: ADD 0\n"
          ],
          "name": "stdout"
        }
      ]
    },
    {
      "cell_type": "code",
      "metadata": {
        "id": "j5eYPeXJ3NsK",
        "colab": {
          "base_uri": "https://localhost:8080/"
        },
        "outputId": "4c7a0f79-138f-4552-a143-a7dd1ea79e24"
      },
      "source": [
        "vtb.info()"
      ],
      "execution_count": null,
      "outputs": [
        {
          "output_type": "stream",
          "text": [
            "<class 'pandas.core.frame.DataFrame'>\n",
            "RangeIndex: 2966 entries, 0 to 2965\n",
            "Data columns (total 8 columns):\n",
            " #   Column    Non-Null Count  Dtype         \n",
            "---  ------    --------------  -----         \n",
            " 0   id        2966 non-null   object        \n",
            " 1   title     2964 non-null   object        \n",
            " 2   text      2964 non-null   object        \n",
            " 3   url       2966 non-null   object        \n",
            " 4   time      2966 non-null   datetime64[ns]\n",
            " 5   views     2966 non-null   int64         \n",
            " 6   comments  2966 non-null   int64         \n",
            " 7   source    2966 non-null   object        \n",
            "dtypes: datetime64[ns](1), int64(2), object(5)\n",
            "memory usage: 185.5+ KB\n"
          ],
          "name": "stdout"
        }
      ]
    },
    {
      "cell_type": "markdown",
      "metadata": {
        "id": "CxhWszoh3Jlo"
      },
      "source": [
        "## Обработка дубликатов"
      ]
    },
    {
      "cell_type": "code",
      "metadata": {
        "id": "-86uIUKe073c",
        "colab": {
          "base_uri": "https://localhost:8080/"
        },
        "outputId": "0e7361e7-da33-45d8-ec43-1fb5864a288b"
      },
      "source": [
        "vtb.id.nunique()"
      ],
      "execution_count": null,
      "outputs": [
        {
          "output_type": "execute_result",
          "data": {
            "text/plain": [
              "2966"
            ]
          },
          "metadata": {
            "tags": []
          },
          "execution_count": 21
        }
      ]
    },
    {
      "cell_type": "code",
      "metadata": {
        "id": "lwmyLsGZ3T62",
        "colab": {
          "base_uri": "https://localhost:8080/"
        },
        "outputId": "1184683a-b5de-4159-85bb-62f9e5fcb01a"
      },
      "source": [
        "vtb.drop_duplicates(subset=['id'], inplace=True, keep='last')\n",
        "vtb.shape"
      ],
      "execution_count": null,
      "outputs": [
        {
          "output_type": "execute_result",
          "data": {
            "text/plain": [
              "(2966, 8)"
            ]
          },
          "metadata": {
            "tags": []
          },
          "execution_count": 22
        }
      ]
    },
    {
      "cell_type": "code",
      "metadata": {
        "id": "uW9wPMZm3eYN",
        "colab": {
          "base_uri": "https://localhost:8080/"
        },
        "outputId": "97a5015e-7f71-4ed4-ce7e-4e404afff33e"
      },
      "source": [
        "vtb[vtb.duplicated()].shape"
      ],
      "execution_count": null,
      "outputs": [
        {
          "output_type": "execute_result",
          "data": {
            "text/plain": [
              "(0, 8)"
            ]
          },
          "metadata": {
            "tags": []
          },
          "execution_count": 23
        }
      ]
    },
    {
      "cell_type": "markdown",
      "metadata": {
        "id": "u_yUKvDi3jEG"
      },
      "source": [
        "## Выгрузка в csv"
      ]
    },
    {
      "cell_type": "code",
      "metadata": {
        "id": "3gnpQhrn0_zA"
      },
      "source": [
        "vtb.to_csv('drive/MyDrive/Colab Notebooks/sber/news/data/vtb.csv', index=False)"
      ],
      "execution_count": null,
      "outputs": []
    },
    {
      "cell_type": "code",
      "metadata": {
        "id": "PG-t-dAQ2DeK",
        "colab": {
          "base_uri": "https://localhost:8080/",
          "height": 374
        },
        "outputId": "c062e033-5ac9-4141-c516-d4eb961ba1bd"
      },
      "source": [
        "vtb.tail()"
      ],
      "execution_count": null,
      "outputs": [
        {
          "output_type": "execute_result",
          "data": {
            "text/html": [
              "<div>\n",
              "<style scoped>\n",
              "    .dataframe tbody tr th:only-of-type {\n",
              "        vertical-align: middle;\n",
              "    }\n",
              "\n",
              "    .dataframe tbody tr th {\n",
              "        vertical-align: top;\n",
              "    }\n",
              "\n",
              "    .dataframe thead th {\n",
              "        text-align: right;\n",
              "    }\n",
              "</style>\n",
              "<table border=\"1\" class=\"dataframe\">\n",
              "  <thead>\n",
              "    <tr style=\"text-align: right;\">\n",
              "      <th></th>\n",
              "      <th>id</th>\n",
              "      <th>title</th>\n",
              "      <th>text</th>\n",
              "      <th>url</th>\n",
              "      <th>time</th>\n",
              "      <th>views</th>\n",
              "      <th>comments</th>\n",
              "      <th>source</th>\n",
              "    </tr>\n",
              "  </thead>\n",
              "  <tbody>\n",
              "    <tr>\n",
              "      <th>2961</th>\n",
              "      <td>2021-02-15-dmitriy-breytenbikher-vozglavil-rey...</td>\n",
              "      <td>Дмитрий Брейтенбихер возглавил рейтинг топ-мен...</td>\n",
              "      <td>Старший вице-президент, руководитель Private B...</td>\n",
              "      <td>https://vtb.ru/o-banke/press-centr/novosti-i-p...</td>\n",
              "      <td>2021-02-15</td>\n",
              "      <td>0</td>\n",
              "      <td>0</td>\n",
              "      <td>vtb.ru</td>\n",
              "    </tr>\n",
              "    <tr>\n",
              "      <th>2962</th>\n",
              "      <td>2021-02-15-pre-ipo-fond-vtb-kapital-investitsi...</td>\n",
              "      <td>Пре-IPO фонд ВТБ Капитал Инвестиции инвестиров...</td>\n",
              "      <td>Закрытый паевый инвестиционный комбинированный...</td>\n",
              "      <td>https://vtb.ru/o-banke/press-centr/novosti-i-p...</td>\n",
              "      <td>2021-02-15</td>\n",
              "      <td>0</td>\n",
              "      <td>0</td>\n",
              "      <td>vtb.ru</td>\n",
              "    </tr>\n",
              "    <tr>\n",
              "      <th>2963</th>\n",
              "      <td>2021-02-15-vtb-snizhaet-komissiyu-na-perevody-...</td>\n",
              "      <td>ВТБ снижает комиссию на переводы с карты на ка...</td>\n",
              "      <td>С 15 февраля ВТБ снижает комиссию на денежные ...</td>\n",
              "      <td>https://vtb.ru/o-banke/press-centr/novosti-i-p...</td>\n",
              "      <td>2021-02-15</td>\n",
              "      <td>0</td>\n",
              "      <td>0</td>\n",
              "      <td>vtb.ru</td>\n",
              "    </tr>\n",
              "    <tr>\n",
              "      <th>2964</th>\n",
              "      <td>2021-02-15-vtb-vaktsinatsiya-na-tret-povysila-...</td>\n",
              "      <td>ВТБ: вакцинация на треть повысила спрос россия...</td>\n",
              "      <td>Выручка медицинских лабораторий в России за пе...</td>\n",
              "      <td>https://vtb.ru/o-banke/press-centr/novosti-i-p...</td>\n",
              "      <td>2021-02-15</td>\n",
              "      <td>0</td>\n",
              "      <td>0</td>\n",
              "      <td>vtb.ru</td>\n",
              "    </tr>\n",
              "    <tr>\n",
              "      <th>2965</th>\n",
              "      <td>2021-02-15-basketbolnoe-shou-match-vsekh-zvezd...</td>\n",
              "      <td>Баскетбольное шоу Матч Всех Звезд прошло при п...</td>\n",
              "      <td>14 февраля Единая Лига ВТБ провела пятый в ист...</td>\n",
              "      <td>https://vtb.ru/o-banke/press-centr/novosti-i-p...</td>\n",
              "      <td>2021-02-14</td>\n",
              "      <td>0</td>\n",
              "      <td>0</td>\n",
              "      <td>vtb.ru</td>\n",
              "    </tr>\n",
              "  </tbody>\n",
              "</table>\n",
              "</div>"
            ],
            "text/plain": [
              "                                                     id  ...  source\n",
              "2961  2021-02-15-dmitriy-breytenbikher-vozglavil-rey...  ...  vtb.ru\n",
              "2962  2021-02-15-pre-ipo-fond-vtb-kapital-investitsi...  ...  vtb.ru\n",
              "2963  2021-02-15-vtb-snizhaet-komissiyu-na-perevody-...  ...  vtb.ru\n",
              "2964  2021-02-15-vtb-vaktsinatsiya-na-tret-povysila-...  ...  vtb.ru\n",
              "2965  2021-02-15-basketbolnoe-shou-match-vsekh-zvezd...  ...  vtb.ru\n",
              "\n",
              "[5 rows x 8 columns]"
            ]
          },
          "metadata": {
            "tags": []
          },
          "execution_count": 25
        }
      ]
    },
    {
      "cell_type": "markdown",
      "metadata": {
        "id": "1YRLvOjx-8ap"
      },
      "source": [
        "## Очистка (убрать комментарии)"
      ]
    },
    {
      "cell_type": "code",
      "metadata": {
        "id": "EZfpKa5z-86r"
      },
      "source": [
        "# vtb['title'] = vtb.title.apply(clean_text)\n",
        "# vtb['text'] = vtb.text.apply(clean_text)"
      ],
      "execution_count": null,
      "outputs": []
    },
    {
      "cell_type": "markdown",
      "metadata": {
        "id": "bF5kcQt89Kbf"
      },
      "source": [
        "# alfabank.ru"
      ]
    },
    {
      "cell_type": "markdown",
      "metadata": {
        "id": "JwtFM_NYR2Pz"
      },
      "source": [
        "Повторим вышереализованный алгоритм для сайта Альфабанка"
      ]
    },
    {
      "cell_type": "markdown",
      "metadata": {
        "id": "K_hSRoiV9UUt"
      },
      "source": [
        "## Загрузка имеющихся данных"
      ]
    },
    {
      "cell_type": "code",
      "metadata": {
        "id": "s-3Ju0qiFOTr",
        "colab": {
          "base_uri": "https://localhost:8080/"
        },
        "outputId": "beea9a53-16df-484e-b6ec-445f9e769700"
      },
      "source": [
        "# скачать можно здесь: https://drive.google.com/file/d/1k7mKvSyUvAbflRHuK8DlLwAykxCTVABG/view?usp=sharing\n",
        "alfa = pd.read_csv('drive/MyDrive/Colab Notebooks/sber/news/data/alfa.csv',\n",
        "                   dtype={'id': np.str,\n",
        "                          'title': np.str,\n",
        "                          'text': np.str,\n",
        "                          'url': np.str,\n",
        "                          'time': np.str,\n",
        "                          'views': np.int64,\n",
        "                          'comments': np.int64,\n",
        "                          'source': np.str\n",
        "                          })\n",
        "alfa.time = pd.to_datetime(alfa.time, format='%Y-%m-%d %H:%M:%S')\n",
        "alfa.info()"
      ],
      "execution_count": null,
      "outputs": [
        {
          "output_type": "stream",
          "text": [
            "<class 'pandas.core.frame.DataFrame'>\n",
            "RangeIndex: 4054 entries, 0 to 4053\n",
            "Data columns (total 8 columns):\n",
            " #   Column    Non-Null Count  Dtype         \n",
            "---  ------    --------------  -----         \n",
            " 0   id        4054 non-null   object        \n",
            " 1   title     4054 non-null   object        \n",
            " 2   text      4032 non-null   object        \n",
            " 3   url       4054 non-null   object        \n",
            " 4   time      4054 non-null   datetime64[ns]\n",
            " 5   views     4054 non-null   int64         \n",
            " 6   comments  4054 non-null   int64         \n",
            " 7   source    4054 non-null   object        \n",
            "dtypes: datetime64[ns](1), int64(2), object(5)\n",
            "memory usage: 253.5+ KB\n"
          ],
          "name": "stdout"
        }
      ]
    },
    {
      "cell_type": "markdown",
      "metadata": {
        "id": "ZZUmEL0F9dF3"
      },
      "source": [
        "## Цикл парсинга"
      ]
    },
    {
      "cell_type": "code",
      "metadata": {
        "id": "fhie6cP19dZ6",
        "colab": {
          "base_uri": "https://localhost:8080/"
        },
        "outputId": "1a8ccd69-a365-41ff-8d50-d5ad3ba279a5"
      },
      "source": [
        "if sites['alfa']['on']:\n",
        "    url_base = 'https://alfabank.ru'\n",
        "    for url_year in range(sites['alfa']['first_page'], sites['alfa']['last_page']):\n",
        "        count_add_articles = 0\n",
        "        for url_month in range(1, 13):\n",
        "            if url_month < 10:\n",
        "                url_month = '0' + str(url_month)\n",
        "            url = url_base + '/press/news/' + \\\n",
        "                str(url_year) + '/' + str(url_month) + '/'\n",
        "            response = load_page(url)\n",
        "            if response == -1:\n",
        "                continue\n",
        "            soup = BeautifulSoup(response.content, 'lxml')\n",
        "            articles = soup.find_all('div', class_='news-item')\n",
        "            if len(articles) == 0:\n",
        "                continue\n",
        "            for article in articles:\n",
        "                # Кол-во просмотров\n",
        "                views = 0\n",
        "                # Кол-во комментариев\n",
        "                comments = 0\n",
        "                # Источник новости\n",
        "                source = 'alfabank.ru'\n",
        "                article_url = article.find('a').get('href')\n",
        "                article_id = str(article_url.split('/')[3]) + '_' + str(article_url.split('/')[4]) + '_' + str(\n",
        "                    article_url.split('/')[5]) + '_' + str(article_url.split('/')[6].split('.')[0])\n",
        "                if alfa[alfa['id'] == article_id].shape[0] == 0:\n",
        "                    # Title\n",
        "                    title = article.find('div', class_='title').text\n",
        "                    # Time\n",
        "                    time = article.find('div', class_='date').text\n",
        "                    url = url_base + article_url\n",
        "                    response = load_page(url)\n",
        "                    if response == -1:\n",
        "                        continue\n",
        "                    soup = BeautifulSoup(response.content, 'lxml')\n",
        "                    article_text = soup.find(\n",
        "                        'div', class_='news-article').find_all('p')\n",
        "                    # Text\n",
        "                    text = ''\n",
        "                    for text_string in article_text[1:]:\n",
        "                        text += text_string.text\n",
        "                    alfa = alfa.append({'id': str(article_id),\n",
        "                                        'title': str(clean_text(title)),\n",
        "                                        'text': str(clean_text(text)),\n",
        "                                        'url': str(url),\n",
        "                                        'time': pd.to_datetime(time, format='%d.%m.%Y'),\n",
        "                                        'views': int(views),\n",
        "                                        'comments': int(comments),\n",
        "                                        'source': str(source)}, ignore_index=True)\n",
        "                    count_add_articles += 1\n",
        "        sites['alfa']['first_page'] = url_year\n",
        "        if debug:\n",
        "            print('Year {}, ADD {}'.format(url_year, count_add_articles))"
      ],
      "execution_count": null,
      "outputs": [
        {
          "output_type": "stream",
          "text": [
            "Year 2021, ADD 12\n"
          ],
          "name": "stdout"
        }
      ]
    },
    {
      "cell_type": "code",
      "metadata": {
        "id": "Yjkz92e2-Krt",
        "colab": {
          "base_uri": "https://localhost:8080/"
        },
        "outputId": "43887447-33cd-49bf-e7da-c2bec98868f9"
      },
      "source": [
        "alfa.info()"
      ],
      "execution_count": null,
      "outputs": [
        {
          "output_type": "stream",
          "text": [
            "<class 'pandas.core.frame.DataFrame'>\n",
            "RangeIndex: 4066 entries, 0 to 4065\n",
            "Data columns (total 8 columns):\n",
            " #   Column    Non-Null Count  Dtype         \n",
            "---  ------    --------------  -----         \n",
            " 0   id        4066 non-null   object        \n",
            " 1   title     4066 non-null   object        \n",
            " 2   text      4044 non-null   object        \n",
            " 3   url       4066 non-null   object        \n",
            " 4   time      4066 non-null   datetime64[ns]\n",
            " 5   views     4066 non-null   int64         \n",
            " 6   comments  4066 non-null   int64         \n",
            " 7   source    4066 non-null   object        \n",
            "dtypes: datetime64[ns](1), int64(2), object(5)\n",
            "memory usage: 254.2+ KB\n"
          ],
          "name": "stdout"
        }
      ]
    },
    {
      "cell_type": "markdown",
      "metadata": {
        "id": "D_UEFLCt9mKN"
      },
      "source": [
        "## Обработка дубликатов"
      ]
    },
    {
      "cell_type": "code",
      "metadata": {
        "id": "aymyeWl99mg-",
        "colab": {
          "base_uri": "https://localhost:8080/"
        },
        "outputId": "c1b822bc-6392-466b-9f1e-20f7dae8528f"
      },
      "source": [
        "alfa.id.nunique()"
      ],
      "execution_count": null,
      "outputs": [
        {
          "output_type": "execute_result",
          "data": {
            "text/plain": [
              "4066"
            ]
          },
          "metadata": {
            "tags": []
          },
          "execution_count": 30
        }
      ]
    },
    {
      "cell_type": "code",
      "metadata": {
        "id": "YPfvcrPW-gEb",
        "colab": {
          "base_uri": "https://localhost:8080/"
        },
        "outputId": "36a20eaf-4b1a-477d-d89b-95d4ea573fb4"
      },
      "source": [
        "alfa.drop_duplicates(subset=['id'], inplace=True, keep='last')\n",
        "alfa.shape"
      ],
      "execution_count": null,
      "outputs": [
        {
          "output_type": "execute_result",
          "data": {
            "text/plain": [
              "(4066, 8)"
            ]
          },
          "metadata": {
            "tags": []
          },
          "execution_count": 31
        }
      ]
    },
    {
      "cell_type": "code",
      "metadata": {
        "id": "gnNuUsy0-h-g",
        "colab": {
          "base_uri": "https://localhost:8080/"
        },
        "outputId": "9a3ca993-2cda-48be-dc33-1adbb91e1ba4"
      },
      "source": [
        "alfa[alfa.duplicated()].shape"
      ],
      "execution_count": null,
      "outputs": [
        {
          "output_type": "execute_result",
          "data": {
            "text/plain": [
              "(0, 8)"
            ]
          },
          "metadata": {
            "tags": []
          },
          "execution_count": 32
        }
      ]
    },
    {
      "cell_type": "markdown",
      "metadata": {
        "id": "q5rdxJAo9pEM"
      },
      "source": [
        "## Выгрузка в csv"
      ]
    },
    {
      "cell_type": "code",
      "metadata": {
        "id": "gehM3ntj9pbG"
      },
      "source": [
        "alfa.to_csv('drive/MyDrive/Colab Notebooks/sber/news/data/alfa.csv', index=False)"
      ],
      "execution_count": null,
      "outputs": []
    },
    {
      "cell_type": "code",
      "metadata": {
        "id": "U4pvkrGt-unz",
        "colab": {
          "base_uri": "https://localhost:8080/",
          "height": 544
        },
        "outputId": "23db4b0d-ab29-4e60-87e9-ee961a69bd52"
      },
      "source": [
        "alfa.tail()"
      ],
      "execution_count": null,
      "outputs": [
        {
          "output_type": "execute_result",
          "data": {
            "text/html": [
              "<div>\n",
              "<style scoped>\n",
              "    .dataframe tbody tr th:only-of-type {\n",
              "        vertical-align: middle;\n",
              "    }\n",
              "\n",
              "    .dataframe tbody tr th {\n",
              "        vertical-align: top;\n",
              "    }\n",
              "\n",
              "    .dataframe thead th {\n",
              "        text-align: right;\n",
              "    }\n",
              "</style>\n",
              "<table border=\"1\" class=\"dataframe\">\n",
              "  <thead>\n",
              "    <tr style=\"text-align: right;\">\n",
              "      <th></th>\n",
              "      <th>id</th>\n",
              "      <th>title</th>\n",
              "      <th>text</th>\n",
              "      <th>url</th>\n",
              "      <th>time</th>\n",
              "      <th>views</th>\n",
              "      <th>comments</th>\n",
              "      <th>source</th>\n",
              "    </tr>\n",
              "  </thead>\n",
              "  <tbody>\n",
              "    <tr>\n",
              "      <th>4061</th>\n",
              "      <td>2021_3_4_76326</td>\n",
              "      <td>Альфа-Банк наградил лауреатов премии ProCharit...</td>\n",
              "      <td>Альфа-Банк стал другом и генеральным партнером...</td>\n",
              "      <td>https://alfabank.ru/press/news/2021/3/4/76326....</td>\n",
              "      <td>2021-03-04</td>\n",
              "      <td>0</td>\n",
              "      <td>0</td>\n",
              "      <td>alfabank.ru</td>\n",
              "    </tr>\n",
              "    <tr>\n",
              "      <th>4062</th>\n",
              "      <td>2021_3_3_76260</td>\n",
              "      <td>График проведения платежей с 5 по 8 марта 2021...</td>\n",
              "      <td>Как будут исполняться платежи в рублях.5 марта...</td>\n",
              "      <td>https://alfabank.ru/press/news/2021/3/3/76260....</td>\n",
              "      <td>2021-03-03</td>\n",
              "      <td>0</td>\n",
              "      <td>0</td>\n",
              "      <td>alfabank.ru</td>\n",
              "    </tr>\n",
              "    <tr>\n",
              "      <th>4063</th>\n",
              "      <td>2021_3_3_76257</td>\n",
              "      <td>Хакни свою карьеру: Альфа-Банк открывает набор...</td>\n",
              "      <td>Альфа-Банк открывает набор студентов на беспла...</td>\n",
              "      <td>https://alfabank.ru/press/news/2021/3/3/76257....</td>\n",
              "      <td>2021-03-03</td>\n",
              "      <td>0</td>\n",
              "      <td>0</td>\n",
              "      <td>alfabank.ru</td>\n",
              "    </tr>\n",
              "    <tr>\n",
              "      <th>4064</th>\n",
              "      <td>2021_3_2_76174</td>\n",
              "      <td>Альфа-Банк и X5 Retail Group внедрили полный э...</td>\n",
              "      <td>Альфа-Банк, X5 Retail Group и ее поставщик ООО...</td>\n",
              "      <td>https://alfabank.ru/press/news/2021/3/2/76174....</td>\n",
              "      <td>2021-03-02</td>\n",
              "      <td>0</td>\n",
              "      <td>0</td>\n",
              "      <td>alfabank.ru</td>\n",
              "    </tr>\n",
              "    <tr>\n",
              "      <th>4065</th>\n",
              "      <td>2021_3_2_76172</td>\n",
              "      <td>Альфа-Банк снова снизил ставку по кредиту нали...</td>\n",
              "      <td>С 1 марта 2021 года получить кредит наличными ...</td>\n",
              "      <td>https://alfabank.ru/press/news/2021/3/2/76172....</td>\n",
              "      <td>2021-03-02</td>\n",
              "      <td>0</td>\n",
              "      <td>0</td>\n",
              "      <td>alfabank.ru</td>\n",
              "    </tr>\n",
              "  </tbody>\n",
              "</table>\n",
              "</div>"
            ],
            "text/plain": [
              "                  id  ...       source\n",
              "4061  2021_3_4_76326  ...  alfabank.ru\n",
              "4062  2021_3_3_76260  ...  alfabank.ru\n",
              "4063  2021_3_3_76257  ...  alfabank.ru\n",
              "4064  2021_3_2_76174  ...  alfabank.ru\n",
              "4065  2021_3_2_76172  ...  alfabank.ru\n",
              "\n",
              "[5 rows x 8 columns]"
            ]
          },
          "metadata": {
            "tags": []
          },
          "execution_count": 34
        }
      ]
    },
    {
      "cell_type": "markdown",
      "metadata": {
        "id": "66P51lr7-0Xs"
      },
      "source": [
        "## Очистка (убрать комментарии)"
      ]
    },
    {
      "cell_type": "code",
      "metadata": {
        "id": "wFXksupA-0wW"
      },
      "source": [
        "# alfa['title'] = alfa.title.apply(clean_text)\n",
        "# alfa['text'] = alfa.text.apply(clean_text)"
      ],
      "execution_count": null,
      "outputs": []
    },
    {
      "cell_type": "markdown",
      "metadata": {
        "id": "R1V1lJyQgXj6"
      },
      "source": [
        "# Выгрузка новостей для рассылки"
      ]
    },
    {
      "cell_type": "markdown",
      "metadata": {
        "id": "fY2fAfiZR6Y8"
      },
      "source": [
        "Реализуем простейший алгоритм подбора новостей для рассылки коллегам"
      ]
    },
    {
      "cell_type": "code",
      "metadata": {
        "id": "pf5cqGoNvvyH",
        "colab": {
          "base_uri": "https://localhost:8080/"
        },
        "outputId": "275199b3-b59c-4dcf-b8a7-c0f5d9a13fa8"
      },
      "source": [
        "banki.info()"
      ],
      "execution_count": null,
      "outputs": [
        {
          "output_type": "stream",
          "text": [
            "<class 'pandas.core.frame.DataFrame'>\n",
            "Int64Index: 113814 entries, 0 to 113813\n",
            "Data columns (total 8 columns):\n",
            " #   Column    Non-Null Count   Dtype         \n",
            "---  ------    --------------   -----         \n",
            " 0   id        113814 non-null  object        \n",
            " 1   title     113814 non-null  object        \n",
            " 2   text      113736 non-null  object        \n",
            " 3   url       113814 non-null  object        \n",
            " 4   time      113814 non-null  datetime64[ns]\n",
            " 5   views     113814 non-null  int64         \n",
            " 6   comments  113814 non-null  int64         \n",
            " 7   source    113776 non-null  object        \n",
            "dtypes: datetime64[ns](1), int64(2), object(5)\n",
            "memory usage: 7.8+ MB\n"
          ],
          "name": "stdout"
        }
      ]
    },
    {
      "cell_type": "code",
      "metadata": {
        "id": "iDgZLoUZgWU9"
      },
      "source": [
        "# номер текущей недели\n",
        "number_of_week = dt.datetime.now().date().isocalendar()[1]"
      ],
      "execution_count": null,
      "outputs": []
    },
    {
      "cell_type": "code",
      "metadata": {
        "id": "doQdQlTFosKU",
        "colab": {
          "base_uri": "https://localhost:8080/",
          "height": 374
        },
        "outputId": "943c44ef-164a-45c2-b5f5-1c8d23e47773"
      },
      "source": [
        "if sites['send']:\n",
        "    with pd.ExcelWriter('drive/MyDrive/Colab Notebooks/sber/news/data/send.xlsx') as writer:\n",
        "        banki_send = pd.DataFrame(columns=banki.columns)\n",
        "        if sites['banki']['send']:\n",
        "            for i in range(1, 8):\n",
        "                banki_send = banki_send.append(banki[(banki.time.dt.isocalendar().year == 2021) &\n",
        "                                                     (banki.time.dt.isocalendar().week == number_of_week) &\n",
        "                                                     (banki.time.dt.isocalendar().day == i)].sort_values(by='views', ascending=False).head(3))\n",
        "            display(banki_send.head())\n",
        "            banki_send.to_excel(writer, sheet_name='banki')\n",
        "        elif sites['vtb']['send']:\n",
        "            vtb_send = vtb[(vtb.time.dt.isocalendar().year == 2021) & (\n",
        "                vtb.time.dt.isocalendar().week == number_of_week)].sort_values(by='time', ascending=True)\n",
        "            display(vtb_send.head())\n",
        "            vtb_send.to_excel(writer, sheet_name='vtb')\n",
        "        elif sites['alfa']['send']:\n",
        "            alfa_send = alfa[(alfa.time.dt.isocalendar().year == 2021) & (\n",
        "                alfa.time.dt.isocalendar().week == number_of_week)].sort_values(by='time', ascending=True)\n",
        "            display(alfa_send.head())\n",
        "            alfa_send.to_excel(writer, sheet_name='alfa')\n",
        "        else:\n",
        "            banki_send.to_excel(writer, sheet_name='clean')"
      ],
      "execution_count": null,
      "outputs": [
        {
          "output_type": "display_data",
          "data": {
            "text/html": [
              "<div>\n",
              "<style scoped>\n",
              "    .dataframe tbody tr th:only-of-type {\n",
              "        vertical-align: middle;\n",
              "    }\n",
              "\n",
              "    .dataframe tbody tr th {\n",
              "        vertical-align: top;\n",
              "    }\n",
              "\n",
              "    .dataframe thead th {\n",
              "        text-align: right;\n",
              "    }\n",
              "</style>\n",
              "<table border=\"1\" class=\"dataframe\">\n",
              "  <thead>\n",
              "    <tr style=\"text-align: right;\">\n",
              "      <th></th>\n",
              "      <th>id</th>\n",
              "      <th>title</th>\n",
              "      <th>text</th>\n",
              "      <th>url</th>\n",
              "      <th>time</th>\n",
              "      <th>views</th>\n",
              "      <th>comments</th>\n",
              "      <th>source</th>\n",
              "    </tr>\n",
              "  </thead>\n",
              "  <tbody>\n",
              "    <tr>\n",
              "      <th>113434</th>\n",
              "      <td>10942262</td>\n",
              "      <td>ЦБ выписал новые штрафы «Открытию», Альфа-Банк...</td>\n",
              "      <td>Банк России вынес новые постановления о привле...</td>\n",
              "      <td>https://www.banki.ru/news/lenta/?id=10942262</td>\n",
              "      <td>2021-03-01 12:28:00</td>\n",
              "      <td>13277</td>\n",
              "      <td>2</td>\n",
              "      <td>Banki.ru</td>\n",
              "    </tr>\n",
              "    <tr>\n",
              "      <th>113445</th>\n",
              "      <td>10942251</td>\n",
              "      <td>ВТБ предлагает новый вклад «Новое время»</td>\n",
              "      <td>ВТБ ввел новый вклад «Новое время».Вклад откры...</td>\n",
              "      <td>https://www.banki.ru/news/lenta/?id=10942251</td>\n",
              "      <td>2021-03-01 10:45:00</td>\n",
              "      <td>6541</td>\n",
              "      <td>6</td>\n",
              "      <td>Banki.ru</td>\n",
              "    </tr>\n",
              "    <tr>\n",
              "      <th>113442</th>\n",
              "      <td>10942253</td>\n",
              "      <td>Россельхозбанк в рамках акции повысил ставку п...</td>\n",
              "      <td>Россельхозбанк в рамках акции «Весеннее предло...</td>\n",
              "      <td>https://www.banki.ru/news/lenta/?id=10942253</td>\n",
              "      <td>2021-03-01 11:12:00</td>\n",
              "      <td>5098</td>\n",
              "      <td>6</td>\n",
              "      <td>Banki.ru</td>\n",
              "    </tr>\n",
              "    <tr>\n",
              "      <th>113422</th>\n",
              "      <td>10942319</td>\n",
              "      <td>Матвиенко назвала сроки индексации пенсий рабо...</td>\n",
              "      <td>Правительство ищет источники бюджетного финанс...</td>\n",
              "      <td>https://www.banki.ru/news/lenta/?id=10942319</td>\n",
              "      <td>2021-03-02 09:07:00</td>\n",
              "      <td>6943</td>\n",
              "      <td>1</td>\n",
              "      <td>Banki.ru</td>\n",
              "    </tr>\n",
              "    <tr>\n",
              "      <th>113416</th>\n",
              "      <td>10942325</td>\n",
              "      <td>2 марта. О чем пишут газеты</td>\n",
              "      <td>Аналитики сразу нескольких ведущих банков и ко...</td>\n",
              "      <td>https://www.banki.ru/news/lenta/?id=10942325</td>\n",
              "      <td>2021-03-02 09:29:00</td>\n",
              "      <td>4171</td>\n",
              "      <td>0</td>\n",
              "      <td>Banki.ru</td>\n",
              "    </tr>\n",
              "  </tbody>\n",
              "</table>\n",
              "</div>"
            ],
            "text/plain": [
              "              id  ...    source\n",
              "113434  10942262  ...  Banki.ru\n",
              "113445  10942251  ...  Banki.ru\n",
              "113442  10942253  ...  Banki.ru\n",
              "113422  10942319  ...  Banki.ru\n",
              "113416  10942325  ...  Banki.ru\n",
              "\n",
              "[5 rows x 8 columns]"
            ]
          },
          "metadata": {
            "tags": []
          }
        }
      ]
    },
    {
      "cell_type": "markdown",
      "metadata": {
        "id": "lfuy_0J1lzpO"
      },
      "source": [
        "# Вывод"
      ]
    },
    {
      "cell_type": "markdown",
      "metadata": {
        "id": "YQv8uebxla96"
      },
      "source": [
        "Данный скрипт позволяет осуществлять парсинг 3 источников (банки, ВТБ, альфабанк), очищать данные и делать выборку новостей для рассылки"
      ]
    }
  ]
}