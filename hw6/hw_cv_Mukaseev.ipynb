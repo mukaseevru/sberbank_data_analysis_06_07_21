{
 "cells": [
  {
   "cell_type": "markdown",
   "metadata": {},
   "source": [
    "# Домашнее задание"
   ]
  },
  {
   "cell_type": "code",
   "execution_count": 1,
   "metadata": {},
   "outputs": [],
   "source": [
    "# !pip install opencv-contrib-python"
   ]
  },
  {
   "cell_type": "code",
   "execution_count": 2,
   "metadata": {},
   "outputs": [],
   "source": [
    "import sys\n",
    "import numpy as np\n",
    "import cv2 as cv"
   ]
  },
  {
   "cell_type": "code",
   "execution_count": 3,
   "metadata": {},
   "outputs": [],
   "source": [
    "def show_my_image(img, title=None):\n",
    "    #cv.namedWindow(title, cv.WINDOW_NORMAL)\n",
    "    cv.imshow(title, img)\n",
    "    cv.waitKey()\n",
    "    cv.destroyAllWindows()\n",
    "    cv.waitKey(1) # для закрытия от клавиатуры, если не Windows"
   ]
  },
  {
   "cell_type": "code",
   "execution_count": 4,
   "metadata": {},
   "outputs": [],
   "source": [
    "file_image = '../data/images/ayvas_picture.jpg'\n",
    "image = cv.imread(file_image)\n",
    "show_my_image(image)"
   ]
  },
  {
   "cell_type": "code",
   "execution_count": 5,
   "metadata": {},
   "outputs": [
    {
     "data": {
      "text/plain": [
       "-1"
      ]
     },
     "execution_count": 5,
     "metadata": {},
     "output_type": "execute_result"
    }
   ],
   "source": [
    "hsv_min = np.array((0, 54, 5), np.uint8)\n",
    "hsv_max = np.array((187, 255, 253), np.uint8)\n",
    "\n",
    "fn = file_image # имя файла, который будем анализировать\n",
    "img = cv.imread(fn)\n",
    "\n",
    "hsv = cv.cvtColor(img, cv.COLOR_BGR2HSV ) # меняем цветовую модель с BGR на HSV\n",
    "thresh = cv.inRange(hsv, hsv_min, hsv_max ) # применяем цветовой фильтр\n",
    "\n",
    "contours0, hierarchy = cv.findContours(thresh.copy(), cv.RETR_TREE, cv.CHAIN_APPROX_SIMPLE)\n",
    "\n",
    "# перебираем все найденные контуры в цикле\n",
    "for cnt in contours0:\n",
    "    rect = cv.minAreaRect(cnt) # пытаемся вписать прямоугольник\n",
    "    box = cv.boxPoints(rect) # поиск четырех вершин прямоугольника\n",
    "    box = np.int0(box) # округление координат\n",
    "    cv.drawContours(img,[box],0,(255,0,0),2) # рисуем прямоугольник\n",
    "\n",
    "cv.imshow('contours', img) # вывод обработанного кадра в окно\n",
    "\n",
    "cv.waitKey()\n",
    "cv.destroyAllWindows()\n",
    "cv.waitKey(1)"
   ]
  },
  {
   "cell_type": "markdown",
   "metadata": {
    "slideshow": {
     "slide_type": "slide"
    }
   },
   "source": [
    "# Как можно улучшить точность?"
   ]
  },
  {
   "cell_type": "markdown",
   "metadata": {
    "slideshow": {
     "slide_type": "subslide"
    }
   },
   "source": [
    "Сделаем небольшую модификацию. Будем фильтровать результаты по площади"
   ]
  },
  {
   "cell_type": "code",
   "execution_count": 6,
   "metadata": {
    "slideshow": {
     "slide_type": "subslide"
    }
   },
   "outputs": [],
   "source": [
    "box = np.int0(box) # округление координат\n",
    "area = int(rect[1][0]*rect[1][1]) # вычисление площади\n",
    "if area > 900:\n",
    "    cv.drawContours(img,[box],0,(255,0,0),2)"
   ]
  },
  {
   "cell_type": "code",
   "execution_count": 7,
   "metadata": {
    "slideshow": {
     "slide_type": "subslide"
    }
   },
   "outputs": [],
   "source": [
    "hsv_min = np.array((0, 54, 5), np.uint8)\n",
    "hsv_max = np.array((187, 255, 253), np.uint8)\n",
    "\n",
    "\n",
    "fn = file_image # имя файла, который будем анализировать\n",
    "img = cv.imread(fn)\n",
    "\n",
    "hsv = cv.cvtColor(img, cv.COLOR_BGR2HSV) # меняем цветовую модель с BGR на HSV\n",
    "thresh = cv.inRange(hsv, hsv_min, hsv_max) # применяем цветовой фильтр\n",
    "\n",
    "show_my_image(thresh)"
   ]
  },
  {
   "cell_type": "code",
   "execution_count": 8,
   "metadata": {
    "slideshow": {
     "slide_type": "subslide"
    }
   },
   "outputs": [
    {
     "name": "stdout",
     "output_type": "stream",
     "text": [
      "226188\n"
     ]
    },
    {
     "data": {
      "text/plain": [
       "-1"
      ]
     },
     "execution_count": 8,
     "metadata": {},
     "output_type": "execute_result"
    }
   ],
   "source": [
    "contours0, hierarchy = cv.findContours(thresh.copy(), cv.RETR_TREE, cv.CHAIN_APPROX_SIMPLE)\n",
    "\n",
    "# перебираем все найденные контуры в цикле\n",
    "for cnt in contours0:\n",
    "    rect = cv.minAreaRect(cnt) # пытаемся вписать прямоугольник\n",
    "    box = cv.boxPoints(rect) # поиск четырех вершин прямоугольника\n",
    "    box = np.int0(box) # округление координат\n",
    "    area = int(rect[1][0]*rect[1][1]) # вычисление площади\n",
    "    if area > 75000 and area < 500000:\n",
    "        print(area)\n",
    "        cv.drawContours(img,[box],0,(255,0,0),2)\n",
    "\n",
    "cv.imshow('contours', img) # вывод обработанного кадра в окно\n",
    "\n",
    "cv.waitKey()\n",
    "cv.destroyAllWindows()\n",
    "cv.waitKey(1)"
   ]
  },
  {
   "cell_type": "markdown",
   "metadata": {
    "slideshow": {
     "slide_type": "slide"
    }
   },
   "source": [
    "# Домашнее задание "
   ]
  },
  {
   "cell_type": "markdown",
   "metadata": {
    "slideshow": {
     "slide_type": "slide"
    }
   },
   "source": [
    "## Задание № 1. Считаем круги"
   ]
  },
  {
   "cell_type": "code",
   "execution_count": 9,
   "metadata": {
    "slideshow": {
     "slide_type": "subslide"
    }
   },
   "outputs": [],
   "source": [
    "file_image = '../data/images/bubbles_2.png'\n",
    "image = cv.imread(file_image)\n",
    "show_my_image(image)"
   ]
  },
  {
   "cell_type": "markdown",
   "metadata": {
    "slideshow": {
     "slide_type": "subslide"
    }
   },
   "source": [
    "* Посчитать количество кругов на картинке с помощью OpenCV"
   ]
  },
  {
   "cell_type": "code",
   "execution_count": 10,
   "metadata": {
    "slideshow": {
     "slide_type": "subslide"
    }
   },
   "outputs": [
    {
     "name": "stdout",
     "output_type": "stream",
     "text": [
      "Найдено:  255 кругов\n"
     ]
    }
   ],
   "source": [
    "output = image.copy() # Создаем копию исходного изображения на всякий случай\n",
    "# cv2.HoughCircles Требует  8-bit-й одно-канальное изображение, \n",
    "# поэтому конвертируем RGB цветное изображени в серые оттенки.\n",
    "gray = cv.cvtColor(image, cv.COLOR_BGR2GRAY) \n",
    "\n",
    "# обнаруживаем круги на изображении\n",
    "circles = cv.HoughCircles(gray, cv.HOUGH_GRADIENT, 1.20, minDist=12, param1=30, param2=30, minRadius=12, maxRadius=22)\n",
    "\n",
    "if circles is not None:  # Проверяем,что нашлись хотя бы какие-то круги\n",
    "    # преобразовываем координаты (x, y) и радиус кругов в целые числа\n",
    "    # обрабатывает преобразование наших кругов из координат с плавающей точкой (x, y) в целые числа, \n",
    "    # это позволит нам рисовать их на нашем выходном изображении.\n",
    "    \n",
    "    circles = np.round(circles[0, :]).astype('int') # \n",
    "\n",
    "    print('Найдено: ',len(circles), 'кругов')\n",
    "    for (x, y, r) in circles:  # Пробегаем/итеррируемся по всем координатам и радиусам кругов\n",
    "        \n",
    "        \n",
    "        # рисуем круг на выходном изображении, затем рисуем прямоугольник\n",
    "        # в соответствии с центром круга\n",
    "        cv.circle(output, (x, y), r, (0, 255, 0), 4)\n",
    "        cv.rectangle(output, (x - 5, y - 5), (x + 5, y + 5), (0, 128, 255), -1)\n",
    "\n",
    "    show_my_image(output)\n",
    "    \n",
    "else: print('Кругов нет')"
   ]
  },
  {
   "cell_type": "markdown",
   "metadata": {
    "slideshow": {
     "slide_type": "slide"
    }
   },
   "source": [
    "## Задание № 2. Развешиваем картины"
   ]
  },
  {
   "cell_type": "markdown",
   "metadata": {
    "slideshow": {
     "slide_type": "subslide"
    }
   },
   "source": [
    "* Выделить все картины на фотографии\n",
    "* Посчитать площадь картин. \n",
    "* Подписать площадь каждой картины на фотографии"
   ]
  },
  {
   "cell_type": "code",
   "execution_count": 11,
   "metadata": {
    "slideshow": {
     "slide_type": "subslide"
    }
   },
   "outputs": [],
   "source": [
    "file_image = '../data/images/pictures_2.jpg'\n",
    "\n",
    "image = cv.imread(file_image)  # file_image - имя файла, который будем анализировать\n",
    "show_my_image(image)"
   ]
  },
  {
   "cell_type": "code",
   "execution_count": 12,
   "metadata": {
    "slideshow": {
     "slide_type": "subslide"
    }
   },
   "outputs": [],
   "source": [
    "hsv_min = np.array((65, 65, 65), np.uint8)\n",
    "hsv_max = np.array((255, 255, 255), np.uint8)\n",
    "\n",
    "fn = file_image # имя файла, который будем анализировать\n",
    "img = cv.imread(fn)\n",
    "ret, threshold_image = cv.threshold(img, 0, 255, cv.THRESH_TOZERO)\n",
    "thresh = cv.inRange(threshold_image, hsv_min, hsv_max) # применяем цветовой фильтр\n",
    "contours0, hierarchy = cv.findContours(thresh.copy(), cv.RETR_TREE, cv.CHAIN_APPROX_SIMPLE)\n",
    "\n",
    "# перебираем все найденные контуры в цикле\n",
    "for cnt in contours0:\n",
    "    rect = cv.minAreaRect(cnt) # пытаемся вписать прямоугольник\n",
    "    box = cv.boxPoints(rect) # поиск четырех вершин прямоугольника\n",
    "    box = np.int0(box) # округление координат\n",
    "    area = int(rect[1][0]*rect[1][1]) # вычисление площади\n",
    "    if area > 3000 and area < 18000:\n",
    "        cv.putText(img,\n",
    "                   str(area),\n",
    "                   (int(cv.moments(cnt)['m10']/cv.moments(cnt)['m00']-20),\n",
    "                    int(cv.moments(cnt)['m01']/cv.moments(cnt)['m00'])),\n",
    "                   cv.FONT_HERSHEY_SIMPLEX,\n",
    "                   0.4,\n",
    "                   (0, 0, 255),\n",
    "                   1)\n",
    "        cv.drawContours(img,\n",
    "                        [box],\n",
    "                        0,\n",
    "                        (0, 0, 255),\n",
    "                        5) # рисуем прямоугольник\n",
    "\n",
    "show_my_image(img)"
   ]
  },
  {
   "cell_type": "code",
   "execution_count": 13,
   "metadata": {},
   "outputs": [],
   "source": [
    "show_my_image(thresh)"
   ]
  },
  {
   "cell_type": "markdown",
   "metadata": {
    "slideshow": {
     "slide_type": "slide"
    }
   },
   "source": [
    "# Дополнительно"
   ]
  },
  {
   "cell_type": "markdown",
   "metadata": {
    "slideshow": {
     "slide_type": "subslide"
    }
   },
   "source": [
    "* Детальный разбор детекции объектов с помощью цветовой сегментации: \n",
    "\n",
    "https://towardsdatascience.com/object-detection-via-color-based-image-segmentation-using-python-e9b7c72f0e11\n",
    "\n",
    "* Статья по openCV на русском https://tproger.ru/translations/opencv-python-guide/"
   ]
  }
 ],
 "metadata": {
  "kernelspec": {
   "display_name": "Python 3",
   "language": "python",
   "name": "python3"
  },
  "language_info": {
   "codemirror_mode": {
    "name": "ipython",
    "version": 3
   },
   "file_extension": ".py",
   "mimetype": "text/x-python",
   "name": "python",
   "nbconvert_exporter": "python",
   "pygments_lexer": "ipython3",
   "version": "3.8.10"
  },
  "toc": {
   "base_numbering": 1,
   "nav_menu": {},
   "number_sections": true,
   "sideBar": true,
   "skip_h1_title": false,
   "title_cell": "Table of Contents",
   "title_sidebar": "Contents",
   "toc_cell": false,
   "toc_position": {},
   "toc_section_display": true,
   "toc_window_display": false
  }
 },
 "nbformat": 4,
 "nbformat_minor": 2
}
