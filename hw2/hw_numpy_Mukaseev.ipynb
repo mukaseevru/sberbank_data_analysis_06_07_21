{
 "cells": [
  {
   "cell_type": "code",
   "execution_count": 1,
   "metadata": {},
   "outputs": [],
   "source": [
    "import numpy as np\n",
    "import time\n",
    "from IPython import display\n",
    "import matplotlib.pyplot as plt\n",
    "%matplotlib inline "
   ]
  },
  {
   "cell_type": "markdown",
   "metadata": {},
   "source": [
    "### Упражнение 1\n",
    "\n",
    "На одном графике изобразите время затраченное на вычисление с использованием массивов numpy и стандартных списков в питоне.  \n",
    "Для более точных результатов замеряйте время выполнения функции несколько раз и усредняйте. \n",
    "* Используйте функцию `z = 2*x**2 + 4*y`\n",
    "* Перемножение матриц размера n на n"
   ]
  },
  {
   "cell_type": "code",
   "execution_count": 2,
   "metadata": {},
   "outputs": [],
   "source": [
    "size_of_vec = 1_000_000\n",
    "\n",
    "def python():\n",
    "    start = time.time()\n",
    "    X = range(size_of_vec)\n",
    "    Y = range(size_of_vec)\n",
    "    Z = [2*X[i]**2 + 4*Y[i] for i in range(len(X))]\n",
    "    return time.time() - start\n",
    "\n",
    "def numpy():\n",
    "    start = time.time()\n",
    "    X = np.arange(size_of_vec)\n",
    "    Y = np.arange(size_of_vec)\n",
    "    Z = 2*X**2 + 4*Y\n",
    "    return time.time() - start"
   ]
  },
  {
   "cell_type": "code",
   "execution_count": 3,
   "metadata": {},
   "outputs": [
    {
     "name": "stderr",
     "output_type": "stream",
     "text": [
      "<ipython-input-3-d0c8e16c2118>:11: UserWarning: Matplotlib is currently using module://ipykernel.pylab.backend_inline, which is a non-GUI backend, so cannot show the figure.\n",
      "  fig.show()\n"
     ]
    },
    {
     "data": {
      "image/png": "[encoded data removed]",
      "text/plain": [
       "<Figure size 432x288 with 1 Axes>"
      ]
     },
     "metadata": {
      "needs_background": "light"
     },
     "output_type": "display_data"
    }
   ],
   "source": [
    "X = np.arange(0, 30)\n",
    "y_python = []\n",
    "y_numpy = []\n",
    "for i in X:\n",
    "    y_python.append(python())\n",
    "\n",
    "for i in X:\n",
    "    y_numpy.append(numpy())\n",
    "\n",
    "fig = plt.figure()\n",
    "fig.show()\n",
    "ax = fig.add_subplot(111)\n",
    "ax.plot(X, y_python, c='b', marker=\"^\", ls='--', label='python', fillstyle='none')\n",
    "ax.plot(X, y_numpy, c='g', marker=(8,2,0), ls='--', label='numpy')\n",
    "plt.legend(loc='best')\n",
    "plt.draw()"
   ]
  },
  {
   "cell_type": "code",
   "execution_count": 4,
   "metadata": {},
   "outputs": [],
   "source": [
    "def python_matrix_mult():\n",
    "    start = time.time()\n",
    "    X = [[1,2,3],[4,5,6],[7,8,9],[10,11,12]]\n",
    "    Y = [[1,2],[1,2],[3,4]]\n",
    "    zip_b = list(zip(*Y))\n",
    "    Z = [[sum(ele_a*ele_b for ele_a, ele_b in zip(row_a, col_b)) \n",
    "             for col_b in zip_b] for row_a in X]\n",
    "    return time.time() - start"
   ]
  },
  {
   "cell_type": "code",
   "execution_count": 5,
   "metadata": {},
   "outputs": [],
   "source": [
    "def numpy_matrix_mult():\n",
    "    start = time.time()\n",
    "    X = np.array([[1,2,3],[4,5,6],[7,8,9],[10,11,12]])\n",
    "    Y = np.array([[1,2],[1,2],[3,4]])\n",
    "    Z = X@Y\n",
    "    return time.time() - start"
   ]
  },
  {
   "cell_type": "code",
   "execution_count": 6,
   "metadata": {},
   "outputs": [
    {
     "name": "stderr",
     "output_type": "stream",
     "text": [
      "<ipython-input-6-f5d11d7f9f75>:11: UserWarning: Matplotlib is currently using module://ipykernel.pylab.backend_inline, which is a non-GUI backend, so cannot show the figure.\n",
      "  fig.show()\n"
     ]
    },
    {
     "data": {
      "image/png": "[encoded data removed]",
      "text/plain": [
       "<Figure size 432x288 with 1 Axes>"
      ]
     },
     "metadata": {
      "needs_background": "light"
     },
     "output_type": "display_data"
    }
   ],
   "source": [
    "X = np.arange(0, 30)\n",
    "y_python = []\n",
    "y_numpy = []\n",
    "for i in X:\n",
    "    y_python.append(python_matrix_mult())\n",
    "\n",
    "for i in X:\n",
    "    y_numpy.append(numpy_matrix_mult())\n",
    "\n",
    "fig = plt.figure()\n",
    "fig.show()\n",
    "ax = fig.add_subplot(111)\n",
    "ax.plot(X, y_python, c='b', marker=\"^\", ls='--', label='python', fillstyle='none')\n",
    "ax.plot(X, y_numpy, c='g', marker=(8,2,0), ls='--', label='numpy')\n",
    "plt.legend(loc='best')\n",
    "plt.draw()"
   ]
  },
  {
   "cell_type": "markdown",
   "metadata": {},
   "source": [
    "### Упражнение 2\n",
    "* Создайте массив чисел от 2 до 75. Выведите только нечётные. \n",
    "* Присвойте нечётным числам этого массива значение -1.\n",
    "\n"
   ]
  },
  {
   "cell_type": "code",
   "execution_count": 7,
   "metadata": {},
   "outputs": [
    {
     "data": {
      "text/plain": [
       "array([ 2,  3,  4,  5,  6,  7,  8,  9, 10, 11, 12, 13, 14, 15, 16, 17, 18,\n",
       "       19, 20, 21, 22, 23, 24, 25, 26, 27, 28, 29, 30, 31, 32, 33, 34, 35,\n",
       "       36, 37, 38, 39, 40, 41, 42, 43, 44, 45, 46, 47, 48, 49, 50, 51, 52,\n",
       "       53, 54, 55, 56, 57, 58, 59, 60, 61, 62, 63, 64, 65, 66, 67, 68, 69,\n",
       "       70, 71, 72, 73, 74, 75])"
      ]
     },
     "execution_count": 7,
     "metadata": {},
     "output_type": "execute_result"
    }
   ],
   "source": [
    "array = np.arange(2,76)\n",
    "array"
   ]
  },
  {
   "cell_type": "code",
   "execution_count": 8,
   "metadata": {},
   "outputs": [
    {
     "data": {
      "text/plain": [
       "array([ 3,  5,  7,  9, 11, 13, 15, 17, 19, 21, 23, 25, 27, 29, 31, 33, 35,\n",
       "       37, 39, 41, 43, 45, 47, 49, 51, 53, 55, 57, 59, 61, 63, 65, 67, 69,\n",
       "       71, 73, 75])"
      ]
     },
     "execution_count": 8,
     "metadata": {},
     "output_type": "execute_result"
    }
   ],
   "source": [
    "array[1::2]"
   ]
  },
  {
   "cell_type": "code",
   "execution_count": 9,
   "metadata": {},
   "outputs": [
    {
     "data": {
      "text/plain": [
       "array([ 2, -1,  4, -1,  6, -1,  8, -1, 10, -1, 12, -1, 14, -1, 16, -1, 18,\n",
       "       -1, 20, -1, 22, -1, 24, -1, 26, -1, 28, -1, 30, -1, 32, -1, 34, -1,\n",
       "       36, -1, 38, -1, 40, -1, 42, -1, 44, -1, 46, -1, 48, -1, 50, -1, 52,\n",
       "       -1, 54, -1, 56, -1, 58, -1, 60, -1, 62, -1, 64, -1, 66, -1, 68, -1,\n",
       "       70, -1, 72, -1, 74, -1])"
      ]
     },
     "execution_count": 9,
     "metadata": {},
     "output_type": "execute_result"
    }
   ],
   "source": [
    "array[1::2] = -1\n",
    "array"
   ]
  },
  {
   "cell_type": "markdown",
   "metadata": {},
   "source": [
    "### Упражнение 3\n",
    "\n",
    "* Найдите в документации функцию, которая удаляет из одного массива элементы, которые есть в другом. \n",
    "* Приведите примеры использования."
   ]
  },
  {
   "cell_type": "code",
   "execution_count": 10,
   "metadata": {},
   "outputs": [
    {
     "name": "stdout",
     "output_type": "stream",
     "text": [
      "[ 0  1  2  3  4  5  6  7  8  9 10 11 12 13 14 15 16 17 18 19 20 21 22 23\n",
      " 24 25 26 27 28 29 30 31 32 33 34 35 36 37 38 39 40 41 42 43 44 45 46 47\n",
      " 48 49 50 51 52 53 54 55 56 57 58 59 60 61 62 63 64 65 66 67 68 69 70 71\n",
      " 72 73 74 75 76 77 78 79 80 81 82 83 84 85 86 87 88 89 90 91 92 93 94 95\n",
      " 96 97 98 99]\n",
      "[0, 10, 20, 30]\n"
     ]
    }
   ],
   "source": [
    "array = np.arange(100)\n",
    "array_2 = [0, 10, 20, 30]\n",
    "print(array)\n",
    "print(array_2)"
   ]
  },
  {
   "cell_type": "code",
   "execution_count": 11,
   "metadata": {},
   "outputs": [
    {
     "data": {
      "text/plain": [
       "array([ True, False, False, False, False, False, False, False, False,\n",
       "       False,  True, False, False, False, False, False, False, False,\n",
       "       False, False,  True, False, False, False, False, False, False,\n",
       "       False, False, False,  True, False, False, False, False, False,\n",
       "       False, False, False, False, False, False, False, False, False,\n",
       "       False, False, False, False, False, False, False, False, False,\n",
       "       False, False, False, False, False, False, False, False, False,\n",
       "       False, False, False, False, False, False, False, False, False,\n",
       "       False, False, False, False, False, False, False, False, False,\n",
       "       False, False, False, False, False, False, False, False, False,\n",
       "       False, False, False, False, False, False, False, False, False,\n",
       "       False])"
      ]
     },
     "execution_count": 11,
     "metadata": {},
     "output_type": "execute_result"
    }
   ],
   "source": [
    "new_array = np.in1d(array, array_2)\n",
    "new_array"
   ]
  },
  {
   "cell_type": "code",
   "execution_count": 12,
   "metadata": {},
   "outputs": [
    {
     "data": {
      "text/plain": [
       "array([ 0, 10, 20, 30])"
      ]
     },
     "execution_count": 12,
     "metadata": {},
     "output_type": "execute_result"
    }
   ],
   "source": [
    "# Посмотрим пересечение\n",
    "array[new_array]"
   ]
  },
  {
   "cell_type": "code",
   "execution_count": 13,
   "metadata": {},
   "outputs": [
    {
     "data": {
      "text/plain": [
       "array([False,  True,  True,  True,  True,  True,  True,  True,  True,\n",
       "        True, False,  True,  True,  True,  True,  True,  True,  True,\n",
       "        True,  True, False,  True,  True,  True,  True,  True,  True,\n",
       "        True,  True,  True, False,  True,  True,  True,  True,  True,\n",
       "        True,  True,  True,  True,  True,  True,  True,  True,  True,\n",
       "        True,  True,  True,  True,  True,  True,  True,  True,  True,\n",
       "        True,  True,  True,  True,  True,  True,  True,  True,  True,\n",
       "        True,  True,  True,  True,  True,  True,  True,  True,  True,\n",
       "        True,  True,  True,  True,  True,  True,  True,  True,  True,\n",
       "        True,  True,  True,  True,  True,  True,  True,  True,  True,\n",
       "        True,  True,  True,  True,  True,  True,  True,  True,  True,\n",
       "        True])"
      ]
     },
     "execution_count": 13,
     "metadata": {},
     "output_type": "execute_result"
    }
   ],
   "source": [
    "new_array_2 = np.in1d(array, array_2, invert=True)\n",
    "new_array_2"
   ]
  },
  {
   "cell_type": "code",
   "execution_count": 14,
   "metadata": {},
   "outputs": [
    {
     "data": {
      "text/plain": [
       "array([ 1,  2,  3,  4,  5,  6,  7,  8,  9, 11, 12, 13, 14, 15, 16, 17, 18,\n",
       "       19, 21, 22, 23, 24, 25, 26, 27, 28, 29, 31, 32, 33, 34, 35, 36, 37,\n",
       "       38, 39, 40, 41, 42, 43, 44, 45, 46, 47, 48, 49, 50, 51, 52, 53, 54,\n",
       "       55, 56, 57, 58, 59, 60, 61, 62, 63, 64, 65, 66, 67, 68, 69, 70, 71,\n",
       "       72, 73, 74, 75, 76, 77, 78, 79, 80, 81, 82, 83, 84, 85, 86, 87, 88,\n",
       "       89, 90, 91, 92, 93, 94, 95, 96, 97, 98, 99])"
      ]
     },
     "execution_count": 14,
     "metadata": {},
     "output_type": "execute_result"
    }
   ],
   "source": [
    "# Посмотрим исключение\n",
    "array[new_array_2]"
   ]
  },
  {
   "cell_type": "markdown",
   "metadata": {},
   "source": [
    "### Упражнение 4\n",
    "\n",
    "* Создайте случайную квадратную матрицу случайного размера от 10 до 100. \n",
    "* Найдите максимум и сумму элементов.\n",
    "* Поделите каждый элемент матрицы на максимум.\n",
    "* Отнимите от каждой строки матрицы среднее по строке.\n",
    "* Замените максимальное значение на -1."
   ]
  },
  {
   "cell_type": "code",
   "execution_count": 15,
   "metadata": {},
   "outputs": [
    {
     "data": {
      "text/plain": [
       "array([[ 16,  58,  70,  41,  91,  88,  62,  26,  49,  21,  68,  21,  93,\n",
       "         55,  83,  10,  84,  12,  44,  41,  49,  89,  78,  94,  15,  46,\n",
       "         12,  62,  36],\n",
       "       [ 80,  44,  32,  11,  91,  21,  18,  76,  76,  33,  75,  63, 100,\n",
       "         20,  36,  43,  79,  53,  49,  11,  27,  14,  15,  57,  99,  15,\n",
       "         66,  96,  54],\n",
       "       [ 63,  58,  82,  47,  93,  49,  43,  12,  22,  83,  48,  28,  74,\n",
       "         34,  66,  75,  18,  37,  87,  37,  35,  19,  75,  35,  76,  99,\n",
       "         84,  78,  64],\n",
       "       [ 15,  26,  52,  47,  18,  84,  31,  68,  78,  12,  21,  12,  84,\n",
       "         42,  90,  65,  24,  40,  18,  10,  22,  80,  68,  15,  80,  37,\n",
       "         42,  40,  51],\n",
       "       [ 42,  57,  16,  14,  73,  52,  51,  77,  28,  57,  10,  25,  67,\n",
       "         56,  36,  21,  61,  57,  27,  81,  25,  76,  32,  37,  41,  40,\n",
       "         34,  36,  91],\n",
       "       [ 11,  48,  91,  31,  92,  27,  13,  94,  90,  32,  39,  99,  64,\n",
       "         19,  16,  99,  60,  41,  43,  64,  47,  62,  18,  62,  86,  34,\n",
       "         49,  20,  21],\n",
       "       [ 23,  90,  54,  92,  34,  11,  35,  54,  61,  37,  93,  10,  57,\n",
       "         37,  77,  44,  33,  91,  39,  55,  20,  61,  28,  30,  27,  46,\n",
       "         83,  62,  53],\n",
       "       [ 27,  87,  95,  65,  71,  20,  29,  69,  44,  62,  50,  63,  25,\n",
       "         46,  59,  56,  27,  12,  23,  26,  97,  70,  20,  50,  32,  27,\n",
       "         86,  12,  61],\n",
       "       [ 83,  13,  56,  31,  52,  92,  89,  63,  45,  33,  96,  26,  44,\n",
       "         97,  74,  43,  86,  47,  65,  11,  82,  76,  89,  19,  68,  85,\n",
       "         71,  11,  23],\n",
       "       [ 27,  95,  89,  66,  31,  12,  10,  83,  22,  50,  91,  65,  12,\n",
       "         67,  84,  34,  88,  31,  14,  56,  84,  38,  42,  48,  91,  93,\n",
       "         50,  85,  95],\n",
       "       [ 11,  82,  36,  86,  59,  25,  25,  50,  16, 100,  62,  25,  32,\n",
       "         87,  58,  43,  59,  48,  84,  66,  30,  73,  39,  33,  92,  46,\n",
       "         11,  21,  89],\n",
       "       [100,  87,  18,  95,  94,  72,  51,  27,  41,  73,  22,  34,  64,\n",
       "         54,  46,  23,  27,  90,  35,  57,  63,  68,  24,  35,  99,  80,\n",
       "         29,  61,  12],\n",
       "       [ 99,  26,  48,  16,  23,  86,  29,  34,  46,  99,  35,  13,  11,\n",
       "         56,  38,  86,  21,  55,  33,  52,  42,  65,  45,  56,  17,  64,\n",
       "        100,  39,  45],\n",
       "       [ 14,  68,  27,  62,  99,  15,  49,  48,  39,  78,  88,  84,  93,\n",
       "         41,  53,  16,  86,  81,  90,  74,  57,  18,  74,  44,  60,  42,\n",
       "         73,  94,  13],\n",
       "       [ 96,  79,  23,  26,  78,  25,  65,  81,  66,  37,  44,  22,  59,\n",
       "         89,  93,  57,  26,  54,  23,  61,  13,  53,  48,  74,  56,  79,\n",
       "         90,  84,  90],\n",
       "       [ 52,  48,  82,  28,  23,  36,  55,  51,  52,  21,  76,  62,  67,\n",
       "         36,  37,  87,  76,  70,  63,  41,  39,  77,  14,  10,  62,  34,\n",
       "         96,  86,  21],\n",
       "       [ 65,  93,  22, 100,  76,  80,  84,  73,  77,  52,  44,  56, 100,\n",
       "         42,  75,  23,  92,  73,  96,  56,  54,  72,  75,  13,  13,  66,\n",
       "         67,  12,  12],\n",
       "       [ 48,  30,  96,  92,  14,  13,  27,  62,  84,  31,  85,  99,  31,\n",
       "         95,  16,  31,  47,  65,  17,  73,  59,  28,  69,  89,  66,  94,\n",
       "         89,  21,  76],\n",
       "       [ 28,  55,  51,  48,  94,  81,  97,  69,  24,  23,  12,  93,  17,\n",
       "         55,  96,  58,  38,  58,  16,  33,  93,  75,  80,  32,  55,  20,\n",
       "         83,  50,  48],\n",
       "       [ 16,  34,  87,  54,  39,  65,  56,  74,  85,  87,  33,  50,  44,\n",
       "         39,  95,  12,  68,  45,  32,  35,  13,  77,  65,  87,  55,  97,\n",
       "         34,  47,  77],\n",
       "       [ 79,  48,  32,  34,  19,  66,  89,  82,  63,  19,  30,  40, 100,\n",
       "         11,  70,  97,  70,  28,  35,  96,  12,  32,  30,  35,  93,  11,\n",
       "         73,  54,  47],\n",
       "       [ 32,  26,  78,  15,  89,  51,  47,  73,  10,  33,  95,  26,  77,\n",
       "         80,  65,  26,  94,  59,  62,  10,  20,  31,  29,  43,  79,  98,\n",
       "         12,  40,  49],\n",
       "       [ 36,  41,  54,  32,  46,  53,  94,  38,  38,  67,  31,  87,  37,\n",
       "         15, 100,  57,  55,  42, 100,  64,  59,  26,  80,  79,  44,  95,\n",
       "         51,  39,  48],\n",
       "       [ 18,  12,  23,  72,  11,  39,  40,  19,  65,  69,  54,  96,  91,\n",
       "         30,  85,  88,  84,  82,  40,  44,  28,  14,  77,  10,  27,  76,\n",
       "         97,  28,  64],\n",
       "       [ 28,  15,  40,  27,  61,  64,  62,  11,  52,  81,  93, 100,  64,\n",
       "         71,  56,  96,  51,  99,  72,  46,  90,  21,  56,  48,  25,  96,\n",
       "         86,  79,  29],\n",
       "       [ 11,  18,  19,  75,  59,  42,  19,  39,  67,  12,  29,  51,  48,\n",
       "         17,  76,  31,  55,  68,  38,  82,  13,  85,  74,  73,  63,  53,\n",
       "         44,  27,  78],\n",
       "       [ 25,  69,  72,  96,  75,  45,  71,  64,  29,  80,  84,  12,  58,\n",
       "         96,  21,  67,  95,  61,  50,  92,  70,  39,  40,  57,  39,  78,\n",
       "         21,  20,  72],\n",
       "       [ 71,  65,  34,  99,  46,  54,  82,  33,  43,  42,  62,  42,  92,\n",
       "         43,  51,  69,  89,  46,  37,  70,  47,  70,  29,  86, 100,  74,\n",
       "         51,  13,  73],\n",
       "       [ 43,  58,  75,  77,  63,  11,  85,  44,  33,  28,  53,  84,  42,\n",
       "         57,  70,  18,  96,  20,  18,  87,  30,  71,  28,  99,  92,  54,\n",
       "         52,  89,  22]])"
      ]
     },
     "execution_count": 15,
     "metadata": {},
     "output_type": "execute_result"
    }
   ],
   "source": [
    "size = np.random.randint(10, 101)\n",
    "matrix = np.random.randint(10, 101, size=(size, size))\n",
    "matrix"
   ]
  },
  {
   "cell_type": "code",
   "execution_count": 16,
   "metadata": {},
   "outputs": [
    {
     "data": {
      "text/plain": [
       "100"
      ]
     },
     "execution_count": 16,
     "metadata": {},
     "output_type": "execute_result"
    }
   ],
   "source": [
    "# Maximum\n",
    "matrix.max()"
   ]
  },
  {
   "cell_type": "code",
   "execution_count": 17,
   "metadata": {},
   "outputs": [
    {
     "data": {
      "text/plain": [
       "44869"
      ]
     },
     "execution_count": 17,
     "metadata": {},
     "output_type": "execute_result"
    }
   ],
   "source": [
    "# Sum\n",
    "matrix.sum()"
   ]
  },
  {
   "cell_type": "code",
   "execution_count": 18,
   "metadata": {},
   "outputs": [
    {
     "data": {
      "text/plain": [
       "array([[0.16, 0.58, 0.7 , 0.41, 0.91, 0.88, 0.62, 0.26, 0.49, 0.21, 0.68,\n",
       "        0.21, 0.93, 0.55, 0.83, 0.1 , 0.84, 0.12, 0.44, 0.41, 0.49, 0.89,\n",
       "        0.78, 0.94, 0.15, 0.46, 0.12, 0.62, 0.36],\n",
       "       [0.8 , 0.44, 0.32, 0.11, 0.91, 0.21, 0.18, 0.76, 0.76, 0.33, 0.75,\n",
       "        0.63, 1.  , 0.2 , 0.36, 0.43, 0.79, 0.53, 0.49, 0.11, 0.27, 0.14,\n",
       "        0.15, 0.57, 0.99, 0.15, 0.66, 0.96, 0.54],\n",
       "       [0.63, 0.58, 0.82, 0.47, 0.93, 0.49, 0.43, 0.12, 0.22, 0.83, 0.48,\n",
       "        0.28, 0.74, 0.34, 0.66, 0.75, 0.18, 0.37, 0.87, 0.37, 0.35, 0.19,\n",
       "        0.75, 0.35, 0.76, 0.99, 0.84, 0.78, 0.64],\n",
       "       [0.15, 0.26, 0.52, 0.47, 0.18, 0.84, 0.31, 0.68, 0.78, 0.12, 0.21,\n",
       "        0.12, 0.84, 0.42, 0.9 , 0.65, 0.24, 0.4 , 0.18, 0.1 , 0.22, 0.8 ,\n",
       "        0.68, 0.15, 0.8 , 0.37, 0.42, 0.4 , 0.51],\n",
       "       [0.42, 0.57, 0.16, 0.14, 0.73, 0.52, 0.51, 0.77, 0.28, 0.57, 0.1 ,\n",
       "        0.25, 0.67, 0.56, 0.36, 0.21, 0.61, 0.57, 0.27, 0.81, 0.25, 0.76,\n",
       "        0.32, 0.37, 0.41, 0.4 , 0.34, 0.36, 0.91],\n",
       "       [0.11, 0.48, 0.91, 0.31, 0.92, 0.27, 0.13, 0.94, 0.9 , 0.32, 0.39,\n",
       "        0.99, 0.64, 0.19, 0.16, 0.99, 0.6 , 0.41, 0.43, 0.64, 0.47, 0.62,\n",
       "        0.18, 0.62, 0.86, 0.34, 0.49, 0.2 , 0.21],\n",
       "       [0.23, 0.9 , 0.54, 0.92, 0.34, 0.11, 0.35, 0.54, 0.61, 0.37, 0.93,\n",
       "        0.1 , 0.57, 0.37, 0.77, 0.44, 0.33, 0.91, 0.39, 0.55, 0.2 , 0.61,\n",
       "        0.28, 0.3 , 0.27, 0.46, 0.83, 0.62, 0.53],\n",
       "       [0.27, 0.87, 0.95, 0.65, 0.71, 0.2 , 0.29, 0.69, 0.44, 0.62, 0.5 ,\n",
       "        0.63, 0.25, 0.46, 0.59, 0.56, 0.27, 0.12, 0.23, 0.26, 0.97, 0.7 ,\n",
       "        0.2 , 0.5 , 0.32, 0.27, 0.86, 0.12, 0.61],\n",
       "       [0.83, 0.13, 0.56, 0.31, 0.52, 0.92, 0.89, 0.63, 0.45, 0.33, 0.96,\n",
       "        0.26, 0.44, 0.97, 0.74, 0.43, 0.86, 0.47, 0.65, 0.11, 0.82, 0.76,\n",
       "        0.89, 0.19, 0.68, 0.85, 0.71, 0.11, 0.23],\n",
       "       [0.27, 0.95, 0.89, 0.66, 0.31, 0.12, 0.1 , 0.83, 0.22, 0.5 , 0.91,\n",
       "        0.65, 0.12, 0.67, 0.84, 0.34, 0.88, 0.31, 0.14, 0.56, 0.84, 0.38,\n",
       "        0.42, 0.48, 0.91, 0.93, 0.5 , 0.85, 0.95],\n",
       "       [0.11, 0.82, 0.36, 0.86, 0.59, 0.25, 0.25, 0.5 , 0.16, 1.  , 0.62,\n",
       "        0.25, 0.32, 0.87, 0.58, 0.43, 0.59, 0.48, 0.84, 0.66, 0.3 , 0.73,\n",
       "        0.39, 0.33, 0.92, 0.46, 0.11, 0.21, 0.89],\n",
       "       [1.  , 0.87, 0.18, 0.95, 0.94, 0.72, 0.51, 0.27, 0.41, 0.73, 0.22,\n",
       "        0.34, 0.64, 0.54, 0.46, 0.23, 0.27, 0.9 , 0.35, 0.57, 0.63, 0.68,\n",
       "        0.24, 0.35, 0.99, 0.8 , 0.29, 0.61, 0.12],\n",
       "       [0.99, 0.26, 0.48, 0.16, 0.23, 0.86, 0.29, 0.34, 0.46, 0.99, 0.35,\n",
       "        0.13, 0.11, 0.56, 0.38, 0.86, 0.21, 0.55, 0.33, 0.52, 0.42, 0.65,\n",
       "        0.45, 0.56, 0.17, 0.64, 1.  , 0.39, 0.45],\n",
       "       [0.14, 0.68, 0.27, 0.62, 0.99, 0.15, 0.49, 0.48, 0.39, 0.78, 0.88,\n",
       "        0.84, 0.93, 0.41, 0.53, 0.16, 0.86, 0.81, 0.9 , 0.74, 0.57, 0.18,\n",
       "        0.74, 0.44, 0.6 , 0.42, 0.73, 0.94, 0.13],\n",
       "       [0.96, 0.79, 0.23, 0.26, 0.78, 0.25, 0.65, 0.81, 0.66, 0.37, 0.44,\n",
       "        0.22, 0.59, 0.89, 0.93, 0.57, 0.26, 0.54, 0.23, 0.61, 0.13, 0.53,\n",
       "        0.48, 0.74, 0.56, 0.79, 0.9 , 0.84, 0.9 ],\n",
       "       [0.52, 0.48, 0.82, 0.28, 0.23, 0.36, 0.55, 0.51, 0.52, 0.21, 0.76,\n",
       "        0.62, 0.67, 0.36, 0.37, 0.87, 0.76, 0.7 , 0.63, 0.41, 0.39, 0.77,\n",
       "        0.14, 0.1 , 0.62, 0.34, 0.96, 0.86, 0.21],\n",
       "       [0.65, 0.93, 0.22, 1.  , 0.76, 0.8 , 0.84, 0.73, 0.77, 0.52, 0.44,\n",
       "        0.56, 1.  , 0.42, 0.75, 0.23, 0.92, 0.73, 0.96, 0.56, 0.54, 0.72,\n",
       "        0.75, 0.13, 0.13, 0.66, 0.67, 0.12, 0.12],\n",
       "       [0.48, 0.3 , 0.96, 0.92, 0.14, 0.13, 0.27, 0.62, 0.84, 0.31, 0.85,\n",
       "        0.99, 0.31, 0.95, 0.16, 0.31, 0.47, 0.65, 0.17, 0.73, 0.59, 0.28,\n",
       "        0.69, 0.89, 0.66, 0.94, 0.89, 0.21, 0.76],\n",
       "       [0.28, 0.55, 0.51, 0.48, 0.94, 0.81, 0.97, 0.69, 0.24, 0.23, 0.12,\n",
       "        0.93, 0.17, 0.55, 0.96, 0.58, 0.38, 0.58, 0.16, 0.33, 0.93, 0.75,\n",
       "        0.8 , 0.32, 0.55, 0.2 , 0.83, 0.5 , 0.48],\n",
       "       [0.16, 0.34, 0.87, 0.54, 0.39, 0.65, 0.56, 0.74, 0.85, 0.87, 0.33,\n",
       "        0.5 , 0.44, 0.39, 0.95, 0.12, 0.68, 0.45, 0.32, 0.35, 0.13, 0.77,\n",
       "        0.65, 0.87, 0.55, 0.97, 0.34, 0.47, 0.77],\n",
       "       [0.79, 0.48, 0.32, 0.34, 0.19, 0.66, 0.89, 0.82, 0.63, 0.19, 0.3 ,\n",
       "        0.4 , 1.  , 0.11, 0.7 , 0.97, 0.7 , 0.28, 0.35, 0.96, 0.12, 0.32,\n",
       "        0.3 , 0.35, 0.93, 0.11, 0.73, 0.54, 0.47],\n",
       "       [0.32, 0.26, 0.78, 0.15, 0.89, 0.51, 0.47, 0.73, 0.1 , 0.33, 0.95,\n",
       "        0.26, 0.77, 0.8 , 0.65, 0.26, 0.94, 0.59, 0.62, 0.1 , 0.2 , 0.31,\n",
       "        0.29, 0.43, 0.79, 0.98, 0.12, 0.4 , 0.49],\n",
       "       [0.36, 0.41, 0.54, 0.32, 0.46, 0.53, 0.94, 0.38, 0.38, 0.67, 0.31,\n",
       "        0.87, 0.37, 0.15, 1.  , 0.57, 0.55, 0.42, 1.  , 0.64, 0.59, 0.26,\n",
       "        0.8 , 0.79, 0.44, 0.95, 0.51, 0.39, 0.48],\n",
       "       [0.18, 0.12, 0.23, 0.72, 0.11, 0.39, 0.4 , 0.19, 0.65, 0.69, 0.54,\n",
       "        0.96, 0.91, 0.3 , 0.85, 0.88, 0.84, 0.82, 0.4 , 0.44, 0.28, 0.14,\n",
       "        0.77, 0.1 , 0.27, 0.76, 0.97, 0.28, 0.64],\n",
       "       [0.28, 0.15, 0.4 , 0.27, 0.61, 0.64, 0.62, 0.11, 0.52, 0.81, 0.93,\n",
       "        1.  , 0.64, 0.71, 0.56, 0.96, 0.51, 0.99, 0.72, 0.46, 0.9 , 0.21,\n",
       "        0.56, 0.48, 0.25, 0.96, 0.86, 0.79, 0.29],\n",
       "       [0.11, 0.18, 0.19, 0.75, 0.59, 0.42, 0.19, 0.39, 0.67, 0.12, 0.29,\n",
       "        0.51, 0.48, 0.17, 0.76, 0.31, 0.55, 0.68, 0.38, 0.82, 0.13, 0.85,\n",
       "        0.74, 0.73, 0.63, 0.53, 0.44, 0.27, 0.78],\n",
       "       [0.25, 0.69, 0.72, 0.96, 0.75, 0.45, 0.71, 0.64, 0.29, 0.8 , 0.84,\n",
       "        0.12, 0.58, 0.96, 0.21, 0.67, 0.95, 0.61, 0.5 , 0.92, 0.7 , 0.39,\n",
       "        0.4 , 0.57, 0.39, 0.78, 0.21, 0.2 , 0.72],\n",
       "       [0.71, 0.65, 0.34, 0.99, 0.46, 0.54, 0.82, 0.33, 0.43, 0.42, 0.62,\n",
       "        0.42, 0.92, 0.43, 0.51, 0.69, 0.89, 0.46, 0.37, 0.7 , 0.47, 0.7 ,\n",
       "        0.29, 0.86, 1.  , 0.74, 0.51, 0.13, 0.73],\n",
       "       [0.43, 0.58, 0.75, 0.77, 0.63, 0.11, 0.85, 0.44, 0.33, 0.28, 0.53,\n",
       "        0.84, 0.42, 0.57, 0.7 , 0.18, 0.96, 0.2 , 0.18, 0.87, 0.3 , 0.71,\n",
       "        0.28, 0.99, 0.92, 0.54, 0.52, 0.89, 0.22]])"
      ]
     },
     "execution_count": 18,
     "metadata": {},
     "output_type": "execute_result"
    }
   ],
   "source": [
    "matrix / matrix.max()"
   ]
  },
  {
   "cell_type": "code",
   "execution_count": 19,
   "metadata": {},
   "outputs": [
    {
     "data": {
      "text/plain": [
       "array([[-36.20689655,   5.79310345,  17.79310345, -11.20689655,\n",
       "         38.79310345,  35.79310345,   9.79310345, -26.20689655,\n",
       "         -3.20689655, -31.20689655,  15.79310345, -31.20689655,\n",
       "         40.79310345,   2.79310345,  30.79310345, -42.20689655,\n",
       "         31.79310345, -40.20689655,  -8.20689655, -11.20689655,\n",
       "         -3.20689655,  36.79310345,  25.79310345,  41.79310345,\n",
       "        -37.20689655,  -6.20689655, -40.20689655,   9.79310345,\n",
       "        -16.20689655],\n",
       "       [ 29.86206897,  -6.13793103, -18.13793103, -39.13793103,\n",
       "         40.86206897, -29.13793103, -32.13793103,  25.86206897,\n",
       "         25.86206897, -17.13793103,  24.86206897,  12.86206897,\n",
       "         49.86206897, -30.13793103, -14.13793103,  -7.13793103,\n",
       "         28.86206897,   2.86206897,  -1.13793103, -39.13793103,\n",
       "        -23.13793103, -36.13793103, -35.13793103,   6.86206897,\n",
       "         48.86206897, -35.13793103,  15.86206897,  45.86206897,\n",
       "          3.86206897],\n",
       "       [  7.10344828,   2.10344828,  26.10344828,  -8.89655172,\n",
       "         37.10344828,  -6.89655172, -12.89655172, -43.89655172,\n",
       "        -33.89655172,  27.10344828,  -7.89655172, -27.89655172,\n",
       "         18.10344828, -21.89655172,  10.10344828,  19.10344828,\n",
       "        -37.89655172, -18.89655172,  31.10344828, -18.89655172,\n",
       "        -20.89655172, -36.89655172,  19.10344828, -20.89655172,\n",
       "         20.10344828,  43.10344828,  28.10344828,  22.10344828,\n",
       "          8.10344828],\n",
       "       [-28.86206897, -17.86206897,   8.13793103,   3.13793103,\n",
       "        -25.86206897,  40.13793103, -12.86206897,  24.13793103,\n",
       "         34.13793103, -31.86206897, -22.86206897, -31.86206897,\n",
       "         40.13793103,  -1.86206897,  46.13793103,  21.13793103,\n",
       "        -19.86206897,  -3.86206897, -25.86206897, -33.86206897,\n",
       "        -21.86206897,  36.13793103,  24.13793103, -28.86206897,\n",
       "         36.13793103,  -6.86206897,  -1.86206897,  -3.86206897,\n",
       "          7.13793103],\n",
       "       [ -3.51724138,  11.48275862, -29.51724138, -31.51724138,\n",
       "         27.48275862,   6.48275862,   5.48275862,  31.48275862,\n",
       "        -17.51724138,  11.48275862, -35.51724138, -20.51724138,\n",
       "         21.48275862,  10.48275862,  -9.51724138, -24.51724138,\n",
       "         15.48275862,  11.48275862, -18.51724138,  35.48275862,\n",
       "        -20.51724138,  30.48275862, -13.51724138,  -8.51724138,\n",
       "         -4.51724138,  -5.51724138, -11.51724138,  -9.51724138,\n",
       "         45.48275862],\n",
       "       [-39.75862069,  -2.75862069,  40.24137931, -19.75862069,\n",
       "         41.24137931, -23.75862069, -37.75862069,  43.24137931,\n",
       "         39.24137931, -18.75862069, -11.75862069,  48.24137931,\n",
       "         13.24137931, -31.75862069, -34.75862069,  48.24137931,\n",
       "          9.24137931,  -9.75862069,  -7.75862069,  13.24137931,\n",
       "         -3.75862069,  11.24137931, -32.75862069,  11.24137931,\n",
       "         35.24137931, -16.75862069,  -1.75862069, -30.75862069,\n",
       "        -29.75862069],\n",
       "       [-26.55172414,  40.44827586,   4.44827586,  42.44827586,\n",
       "        -15.55172414, -38.55172414, -14.55172414,   4.44827586,\n",
       "         11.44827586, -12.55172414,  43.44827586, -39.55172414,\n",
       "          7.44827586, -12.55172414,  27.44827586,  -5.55172414,\n",
       "        -16.55172414,  41.44827586, -10.55172414,   5.44827586,\n",
       "        -29.55172414,  11.44827586, -21.55172414, -19.55172414,\n",
       "        -22.55172414,  -3.55172414,  33.44827586,  12.44827586,\n",
       "          3.44827586],\n",
       "       [-21.65517241,  38.34482759,  46.34482759,  16.34482759,\n",
       "         22.34482759, -28.65517241, -19.65517241,  20.34482759,\n",
       "         -4.65517241,  13.34482759,   1.34482759,  14.34482759,\n",
       "        -23.65517241,  -2.65517241,  10.34482759,   7.34482759,\n",
       "        -21.65517241, -36.65517241, -25.65517241, -22.65517241,\n",
       "         48.34482759,  21.34482759, -28.65517241,   1.34482759,\n",
       "        -16.65517241, -21.65517241,  37.34482759, -36.65517241,\n",
       "         12.34482759],\n",
       "       [ 25.4137931 , -44.5862069 ,  -1.5862069 , -26.5862069 ,\n",
       "         -5.5862069 ,  34.4137931 ,  31.4137931 ,   5.4137931 ,\n",
       "        -12.5862069 , -24.5862069 ,  38.4137931 , -31.5862069 ,\n",
       "        -13.5862069 ,  39.4137931 ,  16.4137931 , -14.5862069 ,\n",
       "         28.4137931 , -10.5862069 ,   7.4137931 , -46.5862069 ,\n",
       "         24.4137931 ,  18.4137931 ,  31.4137931 , -38.5862069 ,\n",
       "         10.4137931 ,  27.4137931 ,  13.4137931 , -46.5862069 ,\n",
       "        -34.5862069 ],\n",
       "       [-30.        ,  38.        ,  32.        ,   9.        ,\n",
       "        -26.        , -45.        , -47.        ,  26.        ,\n",
       "        -35.        ,  -7.        ,  34.        ,   8.        ,\n",
       "        -45.        ,  10.        ,  27.        , -23.        ,\n",
       "         31.        , -26.        , -43.        ,  -1.        ,\n",
       "         27.        , -19.        , -15.        ,  -9.        ,\n",
       "         34.        ,  36.        ,  -7.        ,  28.        ,\n",
       "         38.        ],\n",
       "       [-40.31034483,  30.68965517, -15.31034483,  34.68965517,\n",
       "          7.68965517, -26.31034483, -26.31034483,  -1.31034483,\n",
       "        -35.31034483,  48.68965517,  10.68965517, -26.31034483,\n",
       "        -19.31034483,  35.68965517,   6.68965517,  -8.31034483,\n",
       "          7.68965517,  -3.31034483,  32.68965517,  14.68965517,\n",
       "        -21.31034483,  21.68965517, -12.31034483, -18.31034483,\n",
       "         40.68965517,  -5.31034483, -40.31034483, -30.31034483,\n",
       "         37.68965517],\n",
       "       [ 45.48275862,  32.48275862, -36.51724138,  40.48275862,\n",
       "         39.48275862,  17.48275862,  -3.51724138, -27.51724138,\n",
       "        -13.51724138,  18.48275862, -32.51724138, -20.51724138,\n",
       "          9.48275862,  -0.51724138,  -8.51724138, -31.51724138,\n",
       "        -27.51724138,  35.48275862, -19.51724138,   2.48275862,\n",
       "          8.48275862,  13.48275862, -30.51724138, -19.51724138,\n",
       "         44.48275862,  25.48275862, -25.51724138,   6.48275862,\n",
       "        -42.51724138],\n",
       "       [ 51.44827586, -21.55172414,   0.44827586, -31.55172414,\n",
       "        -24.55172414,  38.44827586, -18.55172414, -13.55172414,\n",
       "         -1.55172414,  51.44827586, -12.55172414, -34.55172414,\n",
       "        -36.55172414,   8.44827586,  -9.55172414,  38.44827586,\n",
       "        -26.55172414,   7.44827586, -14.55172414,   4.44827586,\n",
       "         -5.55172414,  17.44827586,  -2.55172414,   8.44827586,\n",
       "        -30.55172414,  16.44827586,  52.44827586,  -8.55172414,\n",
       "         -2.55172414],\n",
       "       [-43.93103448,  10.06896552, -30.93103448,   4.06896552,\n",
       "         41.06896552, -42.93103448,  -8.93103448,  -9.93103448,\n",
       "        -18.93103448,  20.06896552,  30.06896552,  26.06896552,\n",
       "         35.06896552, -16.93103448,  -4.93103448, -41.93103448,\n",
       "         28.06896552,  23.06896552,  32.06896552,  16.06896552,\n",
       "         -0.93103448, -39.93103448,  16.06896552, -13.93103448,\n",
       "          2.06896552, -15.93103448,  15.06896552,  36.06896552,\n",
       "        -44.93103448],\n",
       "       [ 37.68965517,  20.68965517, -35.31034483, -32.31034483,\n",
       "         19.68965517, -33.31034483,   6.68965517,  22.68965517,\n",
       "          7.68965517, -21.31034483, -14.31034483, -36.31034483,\n",
       "          0.68965517,  30.68965517,  34.68965517,  -1.31034483,\n",
       "        -32.31034483,  -4.31034483, -35.31034483,   2.68965517,\n",
       "        -45.31034483,  -5.31034483, -10.31034483,  15.68965517,\n",
       "         -2.31034483,  20.68965517,  31.68965517,  25.68965517,\n",
       "         31.68965517],\n",
       "       [  0.20689655,  -3.79310345,  30.20689655, -23.79310345,\n",
       "        -28.79310345, -15.79310345,   3.20689655,  -0.79310345,\n",
       "          0.20689655, -30.79310345,  24.20689655,  10.20689655,\n",
       "         15.20689655, -15.79310345, -14.79310345,  35.20689655,\n",
       "         24.20689655,  18.20689655,  11.20689655, -10.79310345,\n",
       "        -12.79310345,  25.20689655, -37.79310345, -41.79310345,\n",
       "         10.20689655, -17.79310345,  44.20689655,  34.20689655,\n",
       "        -30.79310345],\n",
       "       [  4.20689655,  32.20689655, -38.79310345,  39.20689655,\n",
       "         15.20689655,  19.20689655,  23.20689655,  12.20689655,\n",
       "         16.20689655,  -8.79310345, -16.79310345,  -4.79310345,\n",
       "         39.20689655, -18.79310345,  14.20689655, -37.79310345,\n",
       "         31.20689655,  12.20689655,  35.20689655,  -4.79310345,\n",
       "         -6.79310345,  11.20689655,  14.20689655, -47.79310345,\n",
       "        -47.79310345,   5.20689655,   6.20689655, -48.79310345,\n",
       "        -48.79310345],\n",
       "       [ -8.79310345, -26.79310345,  39.20689655,  35.20689655,\n",
       "        -42.79310345, -43.79310345, -29.79310345,   5.20689655,\n",
       "         27.20689655, -25.79310345,  28.20689655,  42.20689655,\n",
       "        -25.79310345,  38.20689655, -40.79310345, -25.79310345,\n",
       "         -9.79310345,   8.20689655, -39.79310345,  16.20689655,\n",
       "          2.20689655, -28.79310345,  12.20689655,  32.20689655,\n",
       "          9.20689655,  37.20689655,  32.20689655, -35.79310345,\n",
       "         19.20689655],\n",
       "       [-26.55172414,   0.44827586,  -3.55172414,  -6.55172414,\n",
       "         39.44827586,  26.44827586,  42.44827586,  14.44827586,\n",
       "        -30.55172414, -31.55172414, -42.55172414,  38.44827586,\n",
       "        -37.55172414,   0.44827586,  41.44827586,   3.44827586,\n",
       "        -16.55172414,   3.44827586, -38.55172414, -21.55172414,\n",
       "         38.44827586,  20.44827586,  25.44827586, -22.55172414,\n",
       "          0.44827586, -34.55172414,  28.44827586,  -4.55172414,\n",
       "         -6.55172414],\n",
       "       [-39.24137931, -21.24137931,  31.75862069,  -1.24137931,\n",
       "        -16.24137931,   9.75862069,   0.75862069,  18.75862069,\n",
       "         29.75862069,  31.75862069, -22.24137931,  -5.24137931,\n",
       "        -11.24137931, -16.24137931,  39.75862069, -43.24137931,\n",
       "         12.75862069, -10.24137931, -23.24137931, -20.24137931,\n",
       "        -42.24137931,  21.75862069,   9.75862069,  31.75862069,\n",
       "         -0.24137931,  41.75862069, -21.24137931,  -8.24137931,\n",
       "         21.75862069],\n",
       "       [ 27.44827586,  -3.55172414, -19.55172414, -17.55172414,\n",
       "        -32.55172414,  14.44827586,  37.44827586,  30.44827586,\n",
       "         11.44827586, -32.55172414, -21.55172414, -11.55172414,\n",
       "         48.44827586, -40.55172414,  18.44827586,  45.44827586,\n",
       "         18.44827586, -23.55172414, -16.55172414,  44.44827586,\n",
       "        -39.55172414, -19.55172414, -21.55172414, -16.55172414,\n",
       "         41.44827586, -40.55172414,  21.44827586,   2.44827586,\n",
       "         -4.55172414],\n",
       "       [-17.96551724, -23.96551724,  28.03448276, -34.96551724,\n",
       "         39.03448276,   1.03448276,  -2.96551724,  23.03448276,\n",
       "        -39.96551724, -16.96551724,  45.03448276, -23.96551724,\n",
       "         27.03448276,  30.03448276,  15.03448276, -23.96551724,\n",
       "         44.03448276,   9.03448276,  12.03448276, -39.96551724,\n",
       "        -29.96551724, -18.96551724, -20.96551724,  -6.96551724,\n",
       "         29.03448276,  48.03448276, -37.96551724,  -9.96551724,\n",
       "         -0.96551724],\n",
       "       [-19.44827586, -14.44827586,  -1.44827586, -23.44827586,\n",
       "         -9.44827586,  -2.44827586,  38.55172414, -17.44827586,\n",
       "        -17.44827586,  11.55172414, -24.44827586,  31.55172414,\n",
       "        -18.44827586, -40.44827586,  44.55172414,   1.55172414,\n",
       "         -0.44827586, -13.44827586,  44.55172414,   8.55172414,\n",
       "          3.55172414, -29.44827586,  24.55172414,  23.55172414,\n",
       "        -11.44827586,  39.55172414,  -4.44827586, -16.44827586,\n",
       "         -7.44827586],\n",
       "       [-33.13793103, -39.13793103, -28.13793103,  20.86206897,\n",
       "        -40.13793103, -12.13793103, -11.13793103, -32.13793103,\n",
       "         13.86206897,  17.86206897,   2.86206897,  44.86206897,\n",
       "         39.86206897, -21.13793103,  33.86206897,  36.86206897,\n",
       "         32.86206897,  30.86206897, -11.13793103,  -7.13793103,\n",
       "        -23.13793103, -37.13793103,  25.86206897, -41.13793103,\n",
       "        -24.13793103,  24.86206897,  45.86206897, -23.13793103,\n",
       "         12.86206897],\n",
       "       [-31.27586207, -44.27586207, -19.27586207, -32.27586207,\n",
       "          1.72413793,   4.72413793,   2.72413793, -48.27586207,\n",
       "         -7.27586207,  21.72413793,  33.72413793,  40.72413793,\n",
       "          4.72413793,  11.72413793,  -3.27586207,  36.72413793,\n",
       "         -8.27586207,  39.72413793,  12.72413793, -13.27586207,\n",
       "         30.72413793, -38.27586207,  -3.27586207, -11.27586207,\n",
       "        -34.27586207,  36.72413793,  26.72413793,  19.72413793,\n",
       "        -30.27586207],\n",
       "       [-36.10344828, -29.10344828, -28.10344828,  27.89655172,\n",
       "         11.89655172,  -5.10344828, -28.10344828,  -8.10344828,\n",
       "         19.89655172, -35.10344828, -18.10344828,   3.89655172,\n",
       "          0.89655172, -30.10344828,  28.89655172, -16.10344828,\n",
       "          7.89655172,  20.89655172,  -9.10344828,  34.89655172,\n",
       "        -34.10344828,  37.89655172,  26.89655172,  25.89655172,\n",
       "         15.89655172,   5.89655172,  -3.10344828, -20.10344828,\n",
       "         30.89655172],\n",
       "       [-33.55172414,  10.44827586,  13.44827586,  37.44827586,\n",
       "         16.44827586, -13.55172414,  12.44827586,   5.44827586,\n",
       "        -29.55172414,  21.44827586,  25.44827586, -46.55172414,\n",
       "         -0.55172414,  37.44827586, -37.55172414,   8.44827586,\n",
       "         36.44827586,   2.44827586,  -8.55172414,  33.44827586,\n",
       "         11.44827586, -19.55172414, -18.55172414,  -1.55172414,\n",
       "        -19.55172414,  19.44827586, -37.55172414, -38.55172414,\n",
       "         13.44827586],\n",
       "       [ 11.93103448,   5.93103448, -25.06896552,  39.93103448,\n",
       "        -13.06896552,  -5.06896552,  22.93103448, -26.06896552,\n",
       "        -16.06896552, -17.06896552,   2.93103448, -17.06896552,\n",
       "         32.93103448, -16.06896552,  -8.06896552,   9.93103448,\n",
       "         29.93103448, -13.06896552, -22.06896552,  10.93103448,\n",
       "        -12.06896552,  10.93103448, -30.06896552,  26.93103448,\n",
       "         40.93103448,  14.93103448,  -8.06896552, -46.06896552,\n",
       "         13.93103448],\n",
       "       [-12.13793103,   2.86206897,  19.86206897,  21.86206897,\n",
       "          7.86206897, -44.13793103,  29.86206897, -11.13793103,\n",
       "        -22.13793103, -27.13793103,  -2.13793103,  28.86206897,\n",
       "        -13.13793103,   1.86206897,  14.86206897, -37.13793103,\n",
       "         40.86206897, -35.13793103, -37.13793103,  31.86206897,\n",
       "        -25.13793103,  15.86206897, -27.13793103,  43.86206897,\n",
       "         36.86206897,  -1.13793103,  -3.13793103,  33.86206897,\n",
       "        -33.13793103]])"
      ]
     },
     "execution_count": 19,
     "metadata": {},
     "output_type": "execute_result"
    }
   ],
   "source": [
    "#Отнимите от каждой строки матрицы среднее по строке.\n",
    "string_mean = np.mean(matrix, axis=1)\n",
    "string_mean = string_mean.reshape(len(string_mean), 1)\n",
    "matrix - string_mean"
   ]
  },
  {
   "cell_type": "code",
   "execution_count": 20,
   "metadata": {},
   "outputs": [
    {
     "data": {
      "text/plain": [
       "array([[16, 58, 70, 41, 91, 88, 62, 26, 49, 21, 68, 21, 93, 55, 83, 10,\n",
       "        84, 12, 44, 41, 49, 89, 78, 94, 15, 46, 12, 62, 36],\n",
       "       [80, 44, 32, 11, 91, 21, 18, 76, 76, 33, 75, 63, -1, 20, 36, 43,\n",
       "        79, 53, 49, 11, 27, 14, 15, 57, 99, 15, 66, 96, 54],\n",
       "       [63, 58, 82, 47, 93, 49, 43, 12, 22, 83, 48, 28, 74, 34, 66, 75,\n",
       "        18, 37, 87, 37, 35, 19, 75, 35, 76, 99, 84, 78, 64],\n",
       "       [15, 26, 52, 47, 18, 84, 31, 68, 78, 12, 21, 12, 84, 42, 90, 65,\n",
       "        24, 40, 18, 10, 22, 80, 68, 15, 80, 37, 42, 40, 51],\n",
       "       [42, 57, 16, 14, 73, 52, 51, 77, 28, 57, 10, 25, 67, 56, 36, 21,\n",
       "        61, 57, 27, 81, 25, 76, 32, 37, 41, 40, 34, 36, 91],\n",
       "       [11, 48, 91, 31, 92, 27, 13, 94, 90, 32, 39, 99, 64, 19, 16, 99,\n",
       "        60, 41, 43, 64, 47, 62, 18, 62, 86, 34, 49, 20, 21],\n",
       "       [23, 90, 54, 92, 34, 11, 35, 54, 61, 37, 93, 10, 57, 37, 77, 44,\n",
       "        33, 91, 39, 55, 20, 61, 28, 30, 27, 46, 83, 62, 53],\n",
       "       [27, 87, 95, 65, 71, 20, 29, 69, 44, 62, 50, 63, 25, 46, 59, 56,\n",
       "        27, 12, 23, 26, 97, 70, 20, 50, 32, 27, 86, 12, 61],\n",
       "       [83, 13, 56, 31, 52, 92, 89, 63, 45, 33, 96, 26, 44, 97, 74, 43,\n",
       "        86, 47, 65, 11, 82, 76, 89, 19, 68, 85, 71, 11, 23],\n",
       "       [27, 95, 89, 66, 31, 12, 10, 83, 22, 50, 91, 65, 12, 67, 84, 34,\n",
       "        88, 31, 14, 56, 84, 38, 42, 48, 91, 93, 50, 85, 95],\n",
       "       [11, 82, 36, 86, 59, 25, 25, 50, 16, -1, 62, 25, 32, 87, 58, 43,\n",
       "        59, 48, 84, 66, 30, 73, 39, 33, 92, 46, 11, 21, 89],\n",
       "       [-1, 87, 18, 95, 94, 72, 51, 27, 41, 73, 22, 34, 64, 54, 46, 23,\n",
       "        27, 90, 35, 57, 63, 68, 24, 35, 99, 80, 29, 61, 12],\n",
       "       [99, 26, 48, 16, 23, 86, 29, 34, 46, 99, 35, 13, 11, 56, 38, 86,\n",
       "        21, 55, 33, 52, 42, 65, 45, 56, 17, 64, -1, 39, 45],\n",
       "       [14, 68, 27, 62, 99, 15, 49, 48, 39, 78, 88, 84, 93, 41, 53, 16,\n",
       "        86, 81, 90, 74, 57, 18, 74, 44, 60, 42, 73, 94, 13],\n",
       "       [96, 79, 23, 26, 78, 25, 65, 81, 66, 37, 44, 22, 59, 89, 93, 57,\n",
       "        26, 54, 23, 61, 13, 53, 48, 74, 56, 79, 90, 84, 90],\n",
       "       [52, 48, 82, 28, 23, 36, 55, 51, 52, 21, 76, 62, 67, 36, 37, 87,\n",
       "        76, 70, 63, 41, 39, 77, 14, 10, 62, 34, 96, 86, 21],\n",
       "       [65, 93, 22, -1, 76, 80, 84, 73, 77, 52, 44, 56, -1, 42, 75, 23,\n",
       "        92, 73, 96, 56, 54, 72, 75, 13, 13, 66, 67, 12, 12],\n",
       "       [48, 30, 96, 92, 14, 13, 27, 62, 84, 31, 85, 99, 31, 95, 16, 31,\n",
       "        47, 65, 17, 73, 59, 28, 69, 89, 66, 94, 89, 21, 76],\n",
       "       [28, 55, 51, 48, 94, 81, 97, 69, 24, 23, 12, 93, 17, 55, 96, 58,\n",
       "        38, 58, 16, 33, 93, 75, 80, 32, 55, 20, 83, 50, 48],\n",
       "       [16, 34, 87, 54, 39, 65, 56, 74, 85, 87, 33, 50, 44, 39, 95, 12,\n",
       "        68, 45, 32, 35, 13, 77, 65, 87, 55, 97, 34, 47, 77],\n",
       "       [79, 48, 32, 34, 19, 66, 89, 82, 63, 19, 30, 40, -1, 11, 70, 97,\n",
       "        70, 28, 35, 96, 12, 32, 30, 35, 93, 11, 73, 54, 47],\n",
       "       [32, 26, 78, 15, 89, 51, 47, 73, 10, 33, 95, 26, 77, 80, 65, 26,\n",
       "        94, 59, 62, 10, 20, 31, 29, 43, 79, 98, 12, 40, 49],\n",
       "       [36, 41, 54, 32, 46, 53, 94, 38, 38, 67, 31, 87, 37, 15, -1, 57,\n",
       "        55, 42, -1, 64, 59, 26, 80, 79, 44, 95, 51, 39, 48],\n",
       "       [18, 12, 23, 72, 11, 39, 40, 19, 65, 69, 54, 96, 91, 30, 85, 88,\n",
       "        84, 82, 40, 44, 28, 14, 77, 10, 27, 76, 97, 28, 64],\n",
       "       [28, 15, 40, 27, 61, 64, 62, 11, 52, 81, 93, -1, 64, 71, 56, 96,\n",
       "        51, 99, 72, 46, 90, 21, 56, 48, 25, 96, 86, 79, 29],\n",
       "       [11, 18, 19, 75, 59, 42, 19, 39, 67, 12, 29, 51, 48, 17, 76, 31,\n",
       "        55, 68, 38, 82, 13, 85, 74, 73, 63, 53, 44, 27, 78],\n",
       "       [25, 69, 72, 96, 75, 45, 71, 64, 29, 80, 84, 12, 58, 96, 21, 67,\n",
       "        95, 61, 50, 92, 70, 39, 40, 57, 39, 78, 21, 20, 72],\n",
       "       [71, 65, 34, 99, 46, 54, 82, 33, 43, 42, 62, 42, 92, 43, 51, 69,\n",
       "        89, 46, 37, 70, 47, 70, 29, 86, -1, 74, 51, 13, 73],\n",
       "       [43, 58, 75, 77, 63, 11, 85, 44, 33, 28, 53, 84, 42, 57, 70, 18,\n",
       "        96, 20, 18, 87, 30, 71, 28, 99, 92, 54, 52, 89, 22]])"
      ]
     },
     "execution_count": 20,
     "metadata": {},
     "output_type": "execute_result"
    }
   ],
   "source": [
    "matrix[matrix == matrix.max()] = -1\n",
    "matrix"
   ]
  },
  {
   "cell_type": "code",
   "execution_count": 21,
   "metadata": {},
   "outputs": [
    {
     "data": {
      "text/plain": [
       "99"
      ]
     },
     "execution_count": 21,
     "metadata": {},
     "output_type": "execute_result"
    }
   ],
   "source": [
    "matrix.max()"
   ]
  },
  {
   "cell_type": "markdown",
   "metadata": {},
   "source": [
    "### Упражнение 5\n",
    "* Напишите функцию, которая берет многомерный вещественный массив с пропущенными значениями (np.nan) и возвращает его копию с заполненными пропусками (заменять средним значением всех элементов массива). Если в массиве одни пропущенные значения, заполните их нулями."
   ]
  },
  {
   "cell_type": "code",
   "execution_count": 22,
   "metadata": {},
   "outputs": [],
   "source": [
    "def my_func(array):\n",
    "    if np.nansum(array) == 0:\n",
    "        array[np.isnan(array)] = 0\n",
    "    else:\n",
    "        array[np.isnan(array)] = np.nanmean(array)\n",
    "    return array"
   ]
  },
  {
   "cell_type": "code",
   "execution_count": 23,
   "metadata": {},
   "outputs": [
    {
     "data": {
      "text/plain": [
       "array([[nan, nan],\n",
       "       [ 3.,  4.],\n",
       "       [ 5.,  6.],\n",
       "       [nan, nan],\n",
       "       [ 9., 10.]])"
      ]
     },
     "execution_count": 23,
     "metadata": {},
     "output_type": "execute_result"
    }
   ],
   "source": [
    "array = np.array(np.arange(1, 11, 1).reshape(5, 2), dtype='float')\n",
    "array[::3] = np.nan\n",
    "array"
   ]
  },
  {
   "cell_type": "code",
   "execution_count": 24,
   "metadata": {},
   "outputs": [
    {
     "data": {
      "text/plain": [
       "array([[ 6.16666667,  6.16666667],\n",
       "       [ 3.        ,  4.        ],\n",
       "       [ 5.        ,  6.        ],\n",
       "       [ 6.16666667,  6.16666667],\n",
       "       [ 9.        , 10.        ]])"
      ]
     },
     "execution_count": 24,
     "metadata": {},
     "output_type": "execute_result"
    }
   ],
   "source": [
    "my_func(array)"
   ]
  },
  {
   "cell_type": "code",
   "execution_count": 25,
   "metadata": {},
   "outputs": [
    {
     "data": {
      "text/plain": [
       "array([[nan, nan],\n",
       "       [nan, nan],\n",
       "       [nan, nan],\n",
       "       [nan, nan],\n",
       "       [nan, nan]])"
      ]
     },
     "execution_count": 25,
     "metadata": {},
     "output_type": "execute_result"
    }
   ],
   "source": [
    "array = np.array(np.arange(1, 11, 1).reshape(5, 2), dtype='float')\n",
    "array[::] = np.nan\n",
    "array"
   ]
  },
  {
   "cell_type": "code",
   "execution_count": 26,
   "metadata": {},
   "outputs": [
    {
     "data": {
      "text/plain": [
       "array([[0., 0.],\n",
       "       [0., 0.],\n",
       "       [0., 0.],\n",
       "       [0., 0.],\n",
       "       [0., 0.]])"
      ]
     },
     "execution_count": 26,
     "metadata": {},
     "output_type": "execute_result"
    }
   ],
   "source": [
    "my_func(array)"
   ]
  },
  {
   "cell_type": "markdown",
   "metadata": {},
   "source": [
    "### Упражнение 6\n",
    "* Напишите функцию которая нормализирует заданный numpy-массив, так чтобы его значения лежали в интервале $[0, 1]$."
   ]
  },
  {
   "cell_type": "code",
   "execution_count": 27,
   "metadata": {},
   "outputs": [],
   "source": [
    "def my_func(array):\n",
    "    array_shape = array.shape\n",
    "    array[np.isnan(array)] = 0\n",
    "    array = array.ravel()\n",
    "    array = (array - array.min()) / (array.max() - array.min())\n",
    "    array = array.reshape(array_shape)\n",
    "    return array"
   ]
  },
  {
   "cell_type": "code",
   "execution_count": 28,
   "metadata": {},
   "outputs": [
    {
     "data": {
      "text/plain": [
       "array([[ 1.,  2.],\n",
       "       [ 3.,  4.],\n",
       "       [ 5.,  6.],\n",
       "       [ 7.,  8.],\n",
       "       [ 9., 10.]])"
      ]
     },
     "execution_count": 28,
     "metadata": {},
     "output_type": "execute_result"
    }
   ],
   "source": [
    "array = np.array(np.arange(1, 11, 1).reshape(5, 2), dtype='float')\n",
    "array"
   ]
  },
  {
   "cell_type": "code",
   "execution_count": 29,
   "metadata": {},
   "outputs": [
    {
     "data": {
      "text/plain": [
       "array([[0.        , 0.11111111],\n",
       "       [0.22222222, 0.33333333],\n",
       "       [0.44444444, 0.55555556],\n",
       "       [0.66666667, 0.77777778],\n",
       "       [0.88888889, 1.        ]])"
      ]
     },
     "execution_count": 29,
     "metadata": {},
     "output_type": "execute_result"
    }
   ],
   "source": [
    "my_func(array)"
   ]
  },
  {
   "cell_type": "markdown",
   "metadata": {},
   "source": [
    "### Упражнение 7\n",
    "* Запишите numpy-array в файл.\n",
    "* Считайте numpy-array из файла."
   ]
  },
  {
   "cell_type": "code",
   "execution_count": 30,
   "metadata": {},
   "outputs": [
    {
     "data": {
      "text/plain": [
       "array([[ 1.,  2.],\n",
       "       [ 3.,  4.],\n",
       "       [ 5.,  6.],\n",
       "       [ 7.,  8.],\n",
       "       [ 9., 10.]])"
      ]
     },
     "execution_count": 30,
     "metadata": {},
     "output_type": "execute_result"
    }
   ],
   "source": [
    "array = np.array(np.arange(1, 11, 1).reshape(5, 2), dtype='float')\n",
    "array"
   ]
  },
  {
   "cell_type": "code",
   "execution_count": 31,
   "metadata": {},
   "outputs": [],
   "source": [
    "np.save('array.npy', array)"
   ]
  },
  {
   "cell_type": "code",
   "execution_count": 32,
   "metadata": {},
   "outputs": [
    {
     "data": {
      "text/plain": [
       "array([[ 1.,  2.],\n",
       "       [ 3.,  4.],\n",
       "       [ 5.,  6.],\n",
       "       [ 7.,  8.],\n",
       "       [ 9., 10.]])"
      ]
     },
     "execution_count": 32,
     "metadata": {},
     "output_type": "execute_result"
    }
   ],
   "source": [
    "array_2 = np.load('array.npy')\n",
    "array_2"
   ]
  },
  {
   "cell_type": "markdown",
   "metadata": {},
   "source": [
    "### Упражнение 8\n",
    "* Создайте случайный массив\n",
    "* Найдите в массиве элемент ближайший к данному"
   ]
  },
  {
   "cell_type": "code",
   "execution_count": 33,
   "metadata": {},
   "outputs": [
    {
     "data": {
      "text/plain": [
       "array([[ 25,  57,  38,  40,  27],\n",
       "       [ 50,  80, 100,  87,  36],\n",
       "       [ 45,  20,  98,  59,  58],\n",
       "       [100,  72,  16,  23,  25],\n",
       "       [ 54,  64,  75,  41,  50]])"
      ]
     },
     "execution_count": 33,
     "metadata": {},
     "output_type": "execute_result"
    }
   ],
   "source": [
    "array = np.random.randint(10, 101, size=(5, 5))\n",
    "array"
   ]
  },
  {
   "cell_type": "code",
   "execution_count": 34,
   "metadata": {},
   "outputs": [],
   "source": [
    "def my_func(array, element):\n",
    "    if np.nansum(array[array >= element]) == 0:\n",
    "        result_1 = array.max()\n",
    "    else:\n",
    "        result_1 = array[array >= element].min()\n",
    "    if np.nansum(array[array <= element]) == 0:\n",
    "        result_2 = array.min()\n",
    "    else:\n",
    "        result_2 = array[array <= element].max() \n",
    "    if result_1 - element == element - result_2:\n",
    "        if result_1 == result_2:\n",
    "            return result_1\n",
    "        else:\n",
    "            return result_1, result_2\n",
    "    elif (result_1 - element) > (element - result_2):\n",
    "        return result_2\n",
    "    else:\n",
    "        return result_1"
   ]
  },
  {
   "cell_type": "code",
   "execution_count": 35,
   "metadata": {},
   "outputs": [
    {
     "data": {
      "text/plain": [
       "16"
      ]
     },
     "execution_count": 35,
     "metadata": {},
     "output_type": "execute_result"
    }
   ],
   "source": [
    "my_func(array, 15)"
   ]
  },
  {
   "cell_type": "markdown",
   "metadata": {},
   "source": [
    "### Упражнение 9"
   ]
  },
  {
   "cell_type": "markdown",
   "metadata": {},
   "source": [
    "* Напишите функцию, которая возвращает  $n \\times m$ целочисленную матрицу с заданным значением на границах матрицы и с заданным значением внутри"
   ]
  },
  {
   "cell_type": "code",
   "execution_count": 36,
   "metadata": {},
   "outputs": [],
   "source": [
    "def my_func(n, m, inside,  border):\n",
    "    if (n > 1) & (m > 1):\n",
    "        matrix = np.random.randint(0, 10, size=(n-2, m-2))\n",
    "        matrix[:] = inside\n",
    "        border_matrix = np.random.randint(border, border+1, size=(n-2, 1))\n",
    "        matrix = np.concatenate([matrix, border_matrix], axis=1)\n",
    "        matrix = np.concatenate([border_matrix, matrix], axis=1)\n",
    "        border_matrix = np.random.randint(border, border+1, size=(1, m))\n",
    "        matrix = np.concatenate([border_matrix, matrix], axis=0)\n",
    "        matrix = np.concatenate([matrix, border_matrix], axis=0)\n",
    "        return(matrix)\n",
    "    else:\n",
    "        print('Требуется задать n>1 и m>1')\n",
    "        return None"
   ]
  },
  {
   "cell_type": "code",
   "execution_count": 37,
   "metadata": {},
   "outputs": [
    {
     "data": {
      "text/plain": [
       "array([[1, 1, 1, 1, 1],\n",
       "       [1, 0, 0, 0, 1],\n",
       "       [1, 0, 0, 0, 1],\n",
       "       [1, 0, 0, 0, 1],\n",
       "       [1, 1, 1, 1, 1]])"
      ]
     },
     "execution_count": 37,
     "metadata": {},
     "output_type": "execute_result"
    }
   ],
   "source": [
    "my_func(5, 5, 0, 1)"
   ]
  },
  {
   "cell_type": "markdown",
   "metadata": {},
   "source": [
    "### Упражнение 10\n",
    "* Напишите функцию, которая сортирует строки данной матрицы по значениям заданного столбца в порядке убывания. "
   ]
  },
  {
   "cell_type": "code",
   "execution_count": 38,
   "metadata": {},
   "outputs": [],
   "source": [
    "def my_func(matrix, column):\n",
    "    return matrix[matrix[:, column].argsort()[::-1]] "
   ]
  },
  {
   "cell_type": "code",
   "execution_count": 39,
   "metadata": {
    "scrolled": true
   },
   "outputs": [
    {
     "data": {
      "text/plain": [
       "array([[ 17,  25,  26,  96,  54],\n",
       "       [ 90,  43,  94,  80,  94],\n",
       "       [ 92,  76,  82,  75,  53],\n",
       "       [ 14,  62,  87,  55,  24],\n",
       "       [ 26,  67,  58, 100,  78]])"
      ]
     },
     "execution_count": 39,
     "metadata": {},
     "output_type": "execute_result"
    }
   ],
   "source": [
    "matrix = np.random.randint(10, 101, size=(5, 5))\n",
    "matrix"
   ]
  },
  {
   "cell_type": "code",
   "execution_count": 40,
   "metadata": {},
   "outputs": [
    {
     "data": {
      "text/plain": [
       "array([[ 90,  43,  94,  80,  94],\n",
       "       [ 14,  62,  87,  55,  24],\n",
       "       [ 92,  76,  82,  75,  53],\n",
       "       [ 26,  67,  58, 100,  78],\n",
       "       [ 17,  25,  26,  96,  54]])"
      ]
     },
     "execution_count": 40,
     "metadata": {},
     "output_type": "execute_result"
    }
   ],
   "source": [
    "my_func(matrix, 2)"
   ]
  },
  {
   "cell_type": "markdown",
   "metadata": {},
   "source": [
    "### Упражнение 11\n",
    "\n",
    "* Напишите функцию, которая создает двоичную матрицу шахматной доски с заданным shape\n",
    "\n",
    "Пример 4x4:\n",
    "```python\n",
    "[[0, 1, 0, 1],\n",
    " [1, 0, 1, 0],\n",
    " [0, 1, 0, 1],\n",
    " [1, 0, 1, 0]]\n",
    "```"
   ]
  },
  {
   "cell_type": "code",
   "execution_count": 41,
   "metadata": {},
   "outputs": [],
   "source": [
    "def my_func(shape):\n",
    "    if (shape % 2 == 0) & (shape > 1):\n",
    "        matrix = np.array(([1,0]*int(shape/2) + [0,1]*int(shape/2)) * int(shape/2)).reshape(shape, shape)   \n",
    "        return(matrix)"
   ]
  },
  {
   "cell_type": "code",
   "execution_count": 42,
   "metadata": {},
   "outputs": [
    {
     "data": {
      "text/plain": [
       "array([[1, 0, 1, 0],\n",
       "       [0, 1, 0, 1],\n",
       "       [1, 0, 1, 0],\n",
       "       [0, 1, 0, 1]])"
      ]
     },
     "execution_count": 42,
     "metadata": {},
     "output_type": "execute_result"
    }
   ],
   "source": [
    "my_func(4)"
   ]
  },
  {
   "cell_type": "markdown",
   "metadata": {},
   "source": [
    "### Упражнение 12\n",
    "* Напишите игру [life](https://en.wikipedia.org/wiki/Conway%27s_Game_of_Life), используя массивы numpy.\n",
    "* Визуализируйте интерактивно ее результаты.\n",
    "\n"
   ]
  }
 ],
 "metadata": {
  "kernelspec": {
   "display_name": "Python 3",
   "language": "python",
   "name": "python3"
  },
  "language_info": {
   "codemirror_mode": {
    "name": "ipython",
    "version": 3
   },
   "file_extension": ".py",
   "mimetype": "text/x-python",
   "name": "python",
   "nbconvert_exporter": "python",
   "pygments_lexer": "ipython3",
   "version": "3.8.10"
  }
 },
 "nbformat": 4,
 "nbformat_minor": 2
}
